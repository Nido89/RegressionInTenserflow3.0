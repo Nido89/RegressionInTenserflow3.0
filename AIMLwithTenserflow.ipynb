{
  "nbformat": 4,
  "nbformat_minor": 0,
  "metadata": {
    "colab": {
      "name": "AIMLwithTenserflow.ipynb",
      "provenance": [],
      "collapsed_sections": [],
      "include_colab_link": true
    },
    "kernelspec": {
      "name": "python3",
      "display_name": "Python 3"
    }
  },
  "cells": [
    {
      "cell_type": "markdown",
      "metadata": {
        "id": "view-in-github",
        "colab_type": "text"
      },
      "source": [
        "<a href=\"https://colab.research.google.com/github/Nido89/RegressionInTenserflow3.0/blob/master/AIMLwithTenserflow.ipynb\" target=\"_parent\"><img src=\"https://colab.research.google.com/assets/colab-badge.svg\" alt=\"Open In Colab\"/></a>"
      ]
    },
    {
      "cell_type": "code",
      "metadata": {
        "id": "q07nR7hVtQgJ",
        "colab_type": "code",
        "outputId": "39d502c0-1152-45f4-f829-a9737b3b76a6",
        "colab": {
          "base_uri": "https://localhost:8080/",
          "height": 309
        }
      },
      "source": [
        "import pandas as pd\n",
        "df1 = pd.read_json(\"https://meri.digitraffic.fi/api/v1/metadata/vessels\")\n",
        "df1.head()"
      ],
      "execution_count": 0,
      "outputs": [
        {
          "output_type": "execute_result",
          "data": {
            "text/html": [
              "<div>\n",
              "<style scoped>\n",
              "    .dataframe tbody tr th:only-of-type {\n",
              "        vertical-align: middle;\n",
              "    }\n",
              "\n",
              "    .dataframe tbody tr th {\n",
              "        vertical-align: top;\n",
              "    }\n",
              "\n",
              "    .dataframe thead th {\n",
              "        text-align: right;\n",
              "    }\n",
              "</style>\n",
              "<table border=\"1\" class=\"dataframe\">\n",
              "  <thead>\n",
              "    <tr style=\"text-align: right;\">\n",
              "      <th></th>\n",
              "      <th>timestamp</th>\n",
              "      <th>destination</th>\n",
              "      <th>name</th>\n",
              "      <th>mmsi</th>\n",
              "      <th>callSign</th>\n",
              "      <th>imo</th>\n",
              "      <th>shipType</th>\n",
              "      <th>draught</th>\n",
              "      <th>eta</th>\n",
              "      <th>posType</th>\n",
              "      <th>referencePointA</th>\n",
              "      <th>referencePointB</th>\n",
              "      <th>referencePointC</th>\n",
              "      <th>referencePointD</th>\n",
              "    </tr>\n",
              "  </thead>\n",
              "  <tbody>\n",
              "    <tr>\n",
              "      <th>0</th>\n",
              "      <td>2019-10-24 10:58:21.457</td>\n",
              "      <td>NORRKOPING SWEDEN</td>\n",
              "      <td>NEAPOLIS</td>\n",
              "      <td>241530000</td>\n",
              "      <td>SVCR4</td>\n",
              "      <td>9792199</td>\n",
              "      <td>80</td>\n",
              "      <td>85</td>\n",
              "      <td>697472</td>\n",
              "      <td>1</td>\n",
              "      <td>189</td>\n",
              "      <td>39</td>\n",
              "      <td>8</td>\n",
              "      <td>24</td>\n",
              "    </tr>\n",
              "    <tr>\n",
              "      <th>1</th>\n",
              "      <td>2019-08-28 05:18:20.325</td>\n",
              "      <td>ROOMASSAARE  ABRUKA</td>\n",
              "      <td>ABRO</td>\n",
              "      <td>276808000</td>\n",
              "      <td>ESKA</td>\n",
              "      <td>0</td>\n",
              "      <td>60</td>\n",
              "      <td>0</td>\n",
              "      <td>1596</td>\n",
              "      <td>1</td>\n",
              "      <td>5</td>\n",
              "      <td>10</td>\n",
              "      <td>2</td>\n",
              "      <td>2</td>\n",
              "    </tr>\n",
              "    <tr>\n",
              "      <th>2</th>\n",
              "      <td>2018-10-17 22:10:27.596</td>\n",
              "      <td>SPB</td>\n",
              "      <td>VOLGONEFT-102</td>\n",
              "      <td>273274000</td>\n",
              "      <td>UBCE</td>\n",
              "      <td>0</td>\n",
              "      <td>90</td>\n",
              "      <td>36</td>\n",
              "      <td>691456</td>\n",
              "      <td>15</td>\n",
              "      <td>103</td>\n",
              "      <td>23</td>\n",
              "      <td>6</td>\n",
              "      <td>10</td>\n",
              "    </tr>\n",
              "    <tr>\n",
              "      <th>3</th>\n",
              "      <td>2019-10-25 05:21:14.935</td>\n",
              "      <td>KOKKOLA</td>\n",
              "      <td>PILOT L138</td>\n",
              "      <td>230988890</td>\n",
              "      <td>OJ3544</td>\n",
              "      <td>0</td>\n",
              "      <td>50</td>\n",
              "      <td>23</td>\n",
              "      <td>1596</td>\n",
              "      <td>1</td>\n",
              "      <td>11</td>\n",
              "      <td>5</td>\n",
              "      <td>3</td>\n",
              "      <td>3</td>\n",
              "    </tr>\n",
              "    <tr>\n",
              "      <th>4</th>\n",
              "      <td>2018-10-10 18:19:37.007</td>\n",
              "      <td>ICDAS TURKEY</td>\n",
              "      <td>SPAR URSA</td>\n",
              "      <td>259794000</td>\n",
              "      <td>LALC7</td>\n",
              "      <td>9490856</td>\n",
              "      <td>70</td>\n",
              "      <td>91</td>\n",
              "      <td>707328</td>\n",
              "      <td>1</td>\n",
              "      <td>160</td>\n",
              "      <td>30</td>\n",
              "      <td>20</td>\n",
              "      <td>12</td>\n",
              "    </tr>\n",
              "  </tbody>\n",
              "</table>\n",
              "</div>"
            ],
            "text/plain": [
              "                timestamp  ... referencePointD\n",
              "0 2019-10-24 10:58:21.457  ...              24\n",
              "1 2019-08-28 05:18:20.325  ...               2\n",
              "2 2018-10-17 22:10:27.596  ...              10\n",
              "3 2019-10-25 05:21:14.935  ...               3\n",
              "4 2018-10-10 18:19:37.007  ...              12\n",
              "\n",
              "[5 rows x 14 columns]"
            ]
          },
          "metadata": {
            "tags": []
          },
          "execution_count": 2
        }
      ]
    },
    {
      "cell_type": "code",
      "metadata": {
        "id": "BaNfFqxZtr9A",
        "colab_type": "code",
        "outputId": "f090d592-18b4-4e1c-c593-616ddade004e",
        "colab": {
          "base_uri": "https://localhost:8080/",
          "height": 204
        }
      },
      "source": [
        "import pandas as pd\n",
        "url='https://cdn.fmi.fi/fmiodata-convert-api/output/csv-edee1994-043c-41f2-b8f6-efe4da29fcf3.csv'\n",
        "df2 = pd.read_csv(url) \n",
        "df2.head()"
      ],
      "execution_count": 0,
      "outputs": [
        {
          "output_type": "execute_result",
          "data": {
            "text/html": [
              "<div>\n",
              "<style scoped>\n",
              "    .dataframe tbody tr th:only-of-type {\n",
              "        vertical-align: middle;\n",
              "    }\n",
              "\n",
              "    .dataframe tbody tr th {\n",
              "        vertical-align: top;\n",
              "    }\n",
              "\n",
              "    .dataframe thead th {\n",
              "        text-align: right;\n",
              "    }\n",
              "</style>\n",
              "<table border=\"1\" class=\"dataframe\">\n",
              "  <thead>\n",
              "    <tr style=\"text-align: right;\">\n",
              "      <th></th>\n",
              "      <th>Year</th>\n",
              "      <th>m</th>\n",
              "      <th>d</th>\n",
              "      <th>Time</th>\n",
              "      <th>Time zone</th>\n",
              "      <th>Horizontal visibility (m)</th>\n",
              "      <th>Wind speed (m/s)</th>\n",
              "    </tr>\n",
              "  </thead>\n",
              "  <tbody>\n",
              "    <tr>\n",
              "      <th>0</th>\n",
              "      <td>2019</td>\n",
              "      <td>10</td>\n",
              "      <td>24</td>\n",
              "      <td>00:00</td>\n",
              "      <td>UTC</td>\n",
              "      <td>36130</td>\n",
              "      <td>2.4</td>\n",
              "    </tr>\n",
              "    <tr>\n",
              "      <th>1</th>\n",
              "      <td>2019</td>\n",
              "      <td>10</td>\n",
              "      <td>24</td>\n",
              "      <td>01:00</td>\n",
              "      <td>UTC</td>\n",
              "      <td>34380</td>\n",
              "      <td>3.1</td>\n",
              "    </tr>\n",
              "    <tr>\n",
              "      <th>2</th>\n",
              "      <td>2019</td>\n",
              "      <td>10</td>\n",
              "      <td>24</td>\n",
              "      <td>02:00</td>\n",
              "      <td>UTC</td>\n",
              "      <td>28590</td>\n",
              "      <td>2.6</td>\n",
              "    </tr>\n",
              "    <tr>\n",
              "      <th>3</th>\n",
              "      <td>2019</td>\n",
              "      <td>10</td>\n",
              "      <td>24</td>\n",
              "      <td>03:00</td>\n",
              "      <td>UTC</td>\n",
              "      <td>31840</td>\n",
              "      <td>2.2</td>\n",
              "    </tr>\n",
              "    <tr>\n",
              "      <th>4</th>\n",
              "      <td>2019</td>\n",
              "      <td>10</td>\n",
              "      <td>24</td>\n",
              "      <td>04:00</td>\n",
              "      <td>UTC</td>\n",
              "      <td>29790</td>\n",
              "      <td>2.2</td>\n",
              "    </tr>\n",
              "  </tbody>\n",
              "</table>\n",
              "</div>"
            ],
            "text/plain": [
              "   Year   m   d   Time Time zone  Horizontal visibility (m)  Wind speed (m/s)\n",
              "0  2019  10  24  00:00       UTC                      36130               2.4\n",
              "1  2019  10  24  01:00       UTC                      34380               3.1\n",
              "2  2019  10  24  02:00       UTC                      28590               2.6\n",
              "3  2019  10  24  03:00       UTC                      31840               2.2\n",
              "4  2019  10  24  04:00       UTC                      29790               2.2"
            ]
          },
          "metadata": {
            "tags": []
          },
          "execution_count": 3
        }
      ]
    },
    {
      "cell_type": "code",
      "metadata": {
        "id": "w38oB5pZvKyo",
        "colab_type": "code",
        "outputId": "2d0ab855-d408-4361-a3e9-392110e904e1",
        "colab": {
          "base_uri": "https://localhost:8080/",
          "height": 439
        }
      },
      "source": [
        "df3=df_index = pd.merge(df1, df2, right_index=True, left_index=True)\n",
        "\n",
        "df3.head(7)\n"
      ],
      "execution_count": 0,
      "outputs": [
        {
          "output_type": "execute_result",
          "data": {
            "text/html": [
              "<div>\n",
              "<style scoped>\n",
              "    .dataframe tbody tr th:only-of-type {\n",
              "        vertical-align: middle;\n",
              "    }\n",
              "\n",
              "    .dataframe tbody tr th {\n",
              "        vertical-align: top;\n",
              "    }\n",
              "\n",
              "    .dataframe thead th {\n",
              "        text-align: right;\n",
              "    }\n",
              "</style>\n",
              "<table border=\"1\" class=\"dataframe\">\n",
              "  <thead>\n",
              "    <tr style=\"text-align: right;\">\n",
              "      <th></th>\n",
              "      <th>timestamp</th>\n",
              "      <th>destination</th>\n",
              "      <th>name</th>\n",
              "      <th>mmsi</th>\n",
              "      <th>callSign</th>\n",
              "      <th>imo</th>\n",
              "      <th>shipType</th>\n",
              "      <th>draught</th>\n",
              "      <th>eta</th>\n",
              "      <th>posType</th>\n",
              "      <th>referencePointA</th>\n",
              "      <th>referencePointB</th>\n",
              "      <th>referencePointC</th>\n",
              "      <th>referencePointD</th>\n",
              "      <th>Year</th>\n",
              "      <th>m</th>\n",
              "      <th>d</th>\n",
              "      <th>Time</th>\n",
              "      <th>Time zone</th>\n",
              "      <th>Horizontal visibility (m)</th>\n",
              "      <th>Wind speed (m/s)</th>\n",
              "    </tr>\n",
              "  </thead>\n",
              "  <tbody>\n",
              "    <tr>\n",
              "      <th>0</th>\n",
              "      <td>2019-10-24 10:58:21.457</td>\n",
              "      <td>NORRKOPING SWEDEN</td>\n",
              "      <td>NEAPOLIS</td>\n",
              "      <td>241530000</td>\n",
              "      <td>SVCR4</td>\n",
              "      <td>9792199</td>\n",
              "      <td>80</td>\n",
              "      <td>85</td>\n",
              "      <td>697472</td>\n",
              "      <td>1</td>\n",
              "      <td>189</td>\n",
              "      <td>39</td>\n",
              "      <td>8</td>\n",
              "      <td>24</td>\n",
              "      <td>2019</td>\n",
              "      <td>10</td>\n",
              "      <td>24</td>\n",
              "      <td>00:00</td>\n",
              "      <td>UTC</td>\n",
              "      <td>36130</td>\n",
              "      <td>2.4</td>\n",
              "    </tr>\n",
              "    <tr>\n",
              "      <th>1</th>\n",
              "      <td>2019-08-28 05:18:20.325</td>\n",
              "      <td>ROOMASSAARE  ABRUKA</td>\n",
              "      <td>ABRO</td>\n",
              "      <td>276808000</td>\n",
              "      <td>ESKA</td>\n",
              "      <td>0</td>\n",
              "      <td>60</td>\n",
              "      <td>0</td>\n",
              "      <td>1596</td>\n",
              "      <td>1</td>\n",
              "      <td>5</td>\n",
              "      <td>10</td>\n",
              "      <td>2</td>\n",
              "      <td>2</td>\n",
              "      <td>2019</td>\n",
              "      <td>10</td>\n",
              "      <td>24</td>\n",
              "      <td>01:00</td>\n",
              "      <td>UTC</td>\n",
              "      <td>34380</td>\n",
              "      <td>3.1</td>\n",
              "    </tr>\n",
              "    <tr>\n",
              "      <th>2</th>\n",
              "      <td>2018-10-17 22:10:27.596</td>\n",
              "      <td>SPB</td>\n",
              "      <td>VOLGONEFT-102</td>\n",
              "      <td>273274000</td>\n",
              "      <td>UBCE</td>\n",
              "      <td>0</td>\n",
              "      <td>90</td>\n",
              "      <td>36</td>\n",
              "      <td>691456</td>\n",
              "      <td>15</td>\n",
              "      <td>103</td>\n",
              "      <td>23</td>\n",
              "      <td>6</td>\n",
              "      <td>10</td>\n",
              "      <td>2019</td>\n",
              "      <td>10</td>\n",
              "      <td>24</td>\n",
              "      <td>02:00</td>\n",
              "      <td>UTC</td>\n",
              "      <td>28590</td>\n",
              "      <td>2.6</td>\n",
              "    </tr>\n",
              "    <tr>\n",
              "      <th>3</th>\n",
              "      <td>2019-10-25 05:21:14.935</td>\n",
              "      <td>KOKKOLA</td>\n",
              "      <td>PILOT L138</td>\n",
              "      <td>230988890</td>\n",
              "      <td>OJ3544</td>\n",
              "      <td>0</td>\n",
              "      <td>50</td>\n",
              "      <td>23</td>\n",
              "      <td>1596</td>\n",
              "      <td>1</td>\n",
              "      <td>11</td>\n",
              "      <td>5</td>\n",
              "      <td>3</td>\n",
              "      <td>3</td>\n",
              "      <td>2019</td>\n",
              "      <td>10</td>\n",
              "      <td>24</td>\n",
              "      <td>03:00</td>\n",
              "      <td>UTC</td>\n",
              "      <td>31840</td>\n",
              "      <td>2.2</td>\n",
              "    </tr>\n",
              "    <tr>\n",
              "      <th>4</th>\n",
              "      <td>2018-10-10 18:19:37.007</td>\n",
              "      <td>ICDAS TURKEY</td>\n",
              "      <td>SPAR URSA</td>\n",
              "      <td>259794000</td>\n",
              "      <td>LALC7</td>\n",
              "      <td>9490856</td>\n",
              "      <td>70</td>\n",
              "      <td>91</td>\n",
              "      <td>707328</td>\n",
              "      <td>1</td>\n",
              "      <td>160</td>\n",
              "      <td>30</td>\n",
              "      <td>20</td>\n",
              "      <td>12</td>\n",
              "      <td>2019</td>\n",
              "      <td>10</td>\n",
              "      <td>24</td>\n",
              "      <td>04:00</td>\n",
              "      <td>UTC</td>\n",
              "      <td>29790</td>\n",
              "      <td>2.2</td>\n",
              "    </tr>\n",
              "    <tr>\n",
              "      <th>5</th>\n",
              "      <td>2019-10-25 05:16:35.018</td>\n",
              "      <td>SEA TRAIL</td>\n",
              "      <td>FANNY</td>\n",
              "      <td>230103660</td>\n",
              "      <td>OIEM</td>\n",
              "      <td>7359266</td>\n",
              "      <td>60</td>\n",
              "      <td>32</td>\n",
              "      <td>322304</td>\n",
              "      <td>1</td>\n",
              "      <td>10</td>\n",
              "      <td>24</td>\n",
              "      <td>2</td>\n",
              "      <td>6</td>\n",
              "      <td>2019</td>\n",
              "      <td>10</td>\n",
              "      <td>24</td>\n",
              "      <td>05:00</td>\n",
              "      <td>UTC</td>\n",
              "      <td>50000</td>\n",
              "      <td>2.3</td>\n",
              "    </tr>\n",
              "    <tr>\n",
              "      <th>6</th>\n",
              "      <td>2019-09-17 23:39:06.515</td>\n",
              "      <td>STETTIN</td>\n",
              "      <td>LISA D</td>\n",
              "      <td>304559000</td>\n",
              "      <td>V2OK3</td>\n",
              "      <td>8205187</td>\n",
              "      <td>70</td>\n",
              "      <td>23</td>\n",
              "      <td>630144</td>\n",
              "      <td>1</td>\n",
              "      <td>60</td>\n",
              "      <td>14</td>\n",
              "      <td>3</td>\n",
              "      <td>9</td>\n",
              "      <td>2019</td>\n",
              "      <td>10</td>\n",
              "      <td>24</td>\n",
              "      <td>06:00</td>\n",
              "      <td>UTC</td>\n",
              "      <td>46760</td>\n",
              "      <td>3.6</td>\n",
              "    </tr>\n",
              "  </tbody>\n",
              "</table>\n",
              "</div>"
            ],
            "text/plain": [
              "                timestamp  ... Wind speed (m/s)\n",
              "0 2019-10-24 10:58:21.457  ...              2.4\n",
              "1 2019-08-28 05:18:20.325  ...              3.1\n",
              "2 2018-10-17 22:10:27.596  ...              2.6\n",
              "3 2019-10-25 05:21:14.935  ...              2.2\n",
              "4 2018-10-10 18:19:37.007  ...              2.2\n",
              "5 2019-10-25 05:16:35.018  ...              2.3\n",
              "6 2019-09-17 23:39:06.515  ...              3.6\n",
              "\n",
              "[7 rows x 21 columns]"
            ]
          },
          "metadata": {
            "tags": []
          },
          "execution_count": 4
        }
      ]
    },
    {
      "cell_type": "code",
      "metadata": {
        "id": "iTbMwK7bvSCW",
        "colab_type": "code",
        "outputId": "e6f29d4f-4682-45f6-e682-914fc23c2231",
        "colab": {
          "base_uri": "https://localhost:8080/",
          "height": 204
        }
      },
      "source": [
        "df4 = df3[\"eta\"]\n",
        "  \n",
        "df4.head(10)"
      ],
      "execution_count": 0,
      "outputs": [
        {
          "output_type": "execute_result",
          "data": {
            "text/plain": [
              "0    697472\n",
              "1      1596\n",
              "2    691456\n",
              "3      1596\n",
              "4    707328\n",
              "5    322304\n",
              "6    630144\n",
              "7    650432\n",
              "8    803584\n",
              "9    678208\n",
              "Name: eta, dtype: int64"
            ]
          },
          "metadata": {
            "tags": []
          },
          "execution_count": 5
        }
      ]
    },
    {
      "cell_type": "code",
      "metadata": {
        "id": "iabgsxgBvTHe",
        "colab_type": "code",
        "outputId": "f60cdc81-a26d-4e3f-8e52-1947d111918b",
        "colab": {
          "base_uri": "https://localhost:8080/",
          "height": 204
        }
      },
      "source": [
        "df5 = df2[\"Horizontal visibility (m)\"]\n",
        "df5.head(10)"
      ],
      "execution_count": 0,
      "outputs": [
        {
          "output_type": "execute_result",
          "data": {
            "text/plain": [
              "0    36130\n",
              "1    34380\n",
              "2    28590\n",
              "3    31840\n",
              "4    29790\n",
              "5    50000\n",
              "6    46760\n",
              "7    42690\n",
              "8    47620\n",
              "9    43890\n",
              "Name: Horizontal visibility (m), dtype: int64"
            ]
          },
          "metadata": {
            "tags": []
          },
          "execution_count": 6
        }
      ]
    },
    {
      "cell_type": "code",
      "metadata": {
        "id": "I9TC0HamvVau",
        "colab_type": "code",
        "outputId": "b7343c3b-b517-4ef5-aba4-44f31a1e7c41",
        "colab": {
          "base_uri": "https://localhost:8080/",
          "height": 204
        }
      },
      "source": [
        "df6= df2[\"Wind speed (m/s)\"]\n",
        "df6.head(10)"
      ],
      "execution_count": 0,
      "outputs": [
        {
          "output_type": "execute_result",
          "data": {
            "text/plain": [
              "0    2.4\n",
              "1    3.1\n",
              "2    2.6\n",
              "3    2.2\n",
              "4    2.2\n",
              "5    2.3\n",
              "6    3.6\n",
              "7    3.9\n",
              "8    3.4\n",
              "9    4.3\n",
              "Name: Wind speed (m/s), dtype: float64"
            ]
          },
          "metadata": {
            "tags": []
          },
          "execution_count": 7
        }
      ]
    },
    {
      "cell_type": "code",
      "metadata": {
        "id": "1QewaOuBvagW",
        "colab_type": "code",
        "outputId": "39228f5a-460c-44f4-c1ef-ea20df6445f7",
        "colab": {
          "base_uri": "https://localhost:8080/",
          "height": 266
        }
      },
      "source": [
        "#Horizontal Visibility plus eta\n",
        "df7= pd.merge(df4, df5, right_index=True, left_index=True)\n",
        "df7.head(7)\n"
      ],
      "execution_count": 0,
      "outputs": [
        {
          "output_type": "execute_result",
          "data": {
            "text/html": [
              "<div>\n",
              "<style scoped>\n",
              "    .dataframe tbody tr th:only-of-type {\n",
              "        vertical-align: middle;\n",
              "    }\n",
              "\n",
              "    .dataframe tbody tr th {\n",
              "        vertical-align: top;\n",
              "    }\n",
              "\n",
              "    .dataframe thead th {\n",
              "        text-align: right;\n",
              "    }\n",
              "</style>\n",
              "<table border=\"1\" class=\"dataframe\">\n",
              "  <thead>\n",
              "    <tr style=\"text-align: right;\">\n",
              "      <th></th>\n",
              "      <th>eta</th>\n",
              "      <th>Horizontal visibility (m)</th>\n",
              "    </tr>\n",
              "  </thead>\n",
              "  <tbody>\n",
              "    <tr>\n",
              "      <th>0</th>\n",
              "      <td>697472</td>\n",
              "      <td>36130</td>\n",
              "    </tr>\n",
              "    <tr>\n",
              "      <th>1</th>\n",
              "      <td>1596</td>\n",
              "      <td>34380</td>\n",
              "    </tr>\n",
              "    <tr>\n",
              "      <th>2</th>\n",
              "      <td>691456</td>\n",
              "      <td>28590</td>\n",
              "    </tr>\n",
              "    <tr>\n",
              "      <th>3</th>\n",
              "      <td>1596</td>\n",
              "      <td>31840</td>\n",
              "    </tr>\n",
              "    <tr>\n",
              "      <th>4</th>\n",
              "      <td>707328</td>\n",
              "      <td>29790</td>\n",
              "    </tr>\n",
              "    <tr>\n",
              "      <th>5</th>\n",
              "      <td>322304</td>\n",
              "      <td>50000</td>\n",
              "    </tr>\n",
              "    <tr>\n",
              "      <th>6</th>\n",
              "      <td>630144</td>\n",
              "      <td>46760</td>\n",
              "    </tr>\n",
              "  </tbody>\n",
              "</table>\n",
              "</div>"
            ],
            "text/plain": [
              "      eta  Horizontal visibility (m)\n",
              "0  697472                      36130\n",
              "1    1596                      34380\n",
              "2  691456                      28590\n",
              "3    1596                      31840\n",
              "4  707328                      29790\n",
              "5  322304                      50000\n",
              "6  630144                      46760"
            ]
          },
          "metadata": {
            "tags": []
          },
          "execution_count": 8
        }
      ]
    },
    {
      "cell_type": "code",
      "metadata": {
        "id": "GuPz8YaDvdGF",
        "colab_type": "code",
        "outputId": "0dbdb9f5-784a-4480-93a2-bc9bcace6962",
        "colab": {
          "base_uri": "https://localhost:8080/",
          "height": 266
        }
      },
      "source": [
        "#eta plus WindSpeed\n",
        "df8= pd.merge(df4, df6, right_index=True, left_index=True)\n",
        "df8.tail(7)"
      ],
      "execution_count": 0,
      "outputs": [
        {
          "output_type": "execute_result",
          "data": {
            "text/html": [
              "<div>\n",
              "<style scoped>\n",
              "    .dataframe tbody tr th:only-of-type {\n",
              "        vertical-align: middle;\n",
              "    }\n",
              "\n",
              "    .dataframe tbody tr th {\n",
              "        vertical-align: top;\n",
              "    }\n",
              "\n",
              "    .dataframe thead th {\n",
              "        text-align: right;\n",
              "    }\n",
              "</style>\n",
              "<table border=\"1\" class=\"dataframe\">\n",
              "  <thead>\n",
              "    <tr style=\"text-align: right;\">\n",
              "      <th></th>\n",
              "      <th>eta</th>\n",
              "      <th>Wind speed (m/s)</th>\n",
              "    </tr>\n",
              "  </thead>\n",
              "  <tbody>\n",
              "    <tr>\n",
              "      <th>18</th>\n",
              "      <td>405632</td>\n",
              "      <td>5.0</td>\n",
              "    </tr>\n",
              "    <tr>\n",
              "      <th>19</th>\n",
              "      <td>774144</td>\n",
              "      <td>4.9</td>\n",
              "    </tr>\n",
              "    <tr>\n",
              "      <th>20</th>\n",
              "      <td>612736</td>\n",
              "      <td>4.1</td>\n",
              "    </tr>\n",
              "    <tr>\n",
              "      <th>21</th>\n",
              "      <td>639488</td>\n",
              "      <td>3.7</td>\n",
              "    </tr>\n",
              "    <tr>\n",
              "      <th>22</th>\n",
              "      <td>704926</td>\n",
              "      <td>3.1</td>\n",
              "    </tr>\n",
              "    <tr>\n",
              "      <th>23</th>\n",
              "      <td>700800</td>\n",
              "      <td>3.6</td>\n",
              "    </tr>\n",
              "    <tr>\n",
              "      <th>24</th>\n",
              "      <td>588820</td>\n",
              "      <td>3.5</td>\n",
              "    </tr>\n",
              "  </tbody>\n",
              "</table>\n",
              "</div>"
            ],
            "text/plain": [
              "       eta  Wind speed (m/s)\n",
              "18  405632               5.0\n",
              "19  774144               4.9\n",
              "20  612736               4.1\n",
              "21  639488               3.7\n",
              "22  704926               3.1\n",
              "23  700800               3.6\n",
              "24  588820               3.5"
            ]
          },
          "metadata": {
            "tags": []
          },
          "execution_count": 9
        }
      ]
    },
    {
      "cell_type": "code",
      "metadata": {
        "id": "SXuCmKrZvhT9",
        "colab_type": "code",
        "colab": {}
      },
      "source": [
        "import tensorflow as tf #importing the tensorflow library\n",
        "import pandas as pd\n",
        "import numpy as np\n",
        "import matplotlib.pyplot as plt\n",
        "import seaborn as sns\n",
        "from pandas import DataFrame\n",
        "%matplotlib inline"
      ],
      "execution_count": 0,
      "outputs": []
    },
    {
      "cell_type": "code",
      "metadata": {
        "id": "WkPH9JnSI3Wy",
        "colab_type": "code",
        "colab": {}
      },
      "source": [
        "x= df4\n",
        "y= df5"
      ],
      "execution_count": 0,
      "outputs": []
    },
    {
      "cell_type": "code",
      "metadata": {
        "id": "bo9Ql2Sm0rsB",
        "colab_type": "code",
        "outputId": "f2eafaf8-2ae5-4006-d6d6-682131870296",
        "colab": {
          "base_uri": "https://localhost:8080/",
          "height": 295
        }
      },
      "source": [
        "n = len(x) # Number of data points \n",
        "# Plot of Training Data \n",
        "plt.scatter(x, y) \n",
        "plt.xlabel('x') \n",
        "plt.xlabel('y') \n",
        "plt.title(\"Training Data\") \n",
        "plt.show() "
      ],
      "execution_count": 0,
      "outputs": [
        {
          "output_type": "display_data",
          "data": {
            "image/png": "[encoded data removed]",
            "text/plain": [
              "<Figure size 432x288 with 1 Axes>"
            ]
          },
          "metadata": {
            "tags": []
          }
        }
      ]
    },
    {
      "cell_type": "code",
      "metadata": {
        "id": "sanpSyscJHGo",
        "colab_type": "code",
        "outputId": "3f94461c-0725-4c42-9d8f-bd0120decdd1",
        "colab": {
          "base_uri": "https://localhost:8080/",
          "height": 282
        }
      },
      "source": [
        "plt.plot(x,y,\"*\")"
      ],
      "execution_count": 0,
      "outputs": [
        {
          "output_type": "execute_result",
          "data": {
            "text/plain": [
              "[<matplotlib.lines.Line2D at 0x7ff0f6283240>]"
            ]
          },
          "metadata": {
            "tags": []
          },
          "execution_count": 13
        },
        {
          "output_type": "display_data",
          "data": {
            "image/png": "[encoded data removed]",
            "text/plain": [
              "<Figure size 432x288 with 1 Axes>"
            ]
          },
          "metadata": {
            "tags": []
          }
        }
      ]
    },
    {
      "cell_type": "code",
      "metadata": {
        "id": "af85fXUPKJUo",
        "colab_type": "code",
        "colab": {}
      },
      "source": [
        "optimizer= tf.train.GradientDescentOptimizer(learning_rate=0.001)\n",
        "train= optimizer.minimize(error)"
      ],
      "execution_count": 0,
      "outputs": []
    },
    {
      "cell_type": "code",
      "metadata": {
        "id": "7pIIHQKYsss-",
        "colab_type": "code",
        "colab": {}
      },
      "source": [
        "# importing the dependencies \n",
        "import tensorflow as tf \n",
        "import numpy as np \n",
        "import matplotlib.pyplot as plt \n",
        "\n",
        "# Model Parameters \n",
        "learning_rate = 0.01\n",
        "training_epochs = 2000\n",
        "display_step = 200\n",
        "\n",
        "# Training Data \n",
        "train_X = np.asarray([df4]) \n",
        "train_y = np.asarray([df5]) \n",
        "n_samples = train_X.shape[0] "
      ],
      "execution_count": 0,
      "outputs": []
    },
    {
      "cell_type": "code",
      "metadata": {
        "id": "gjVuIaAztAnk",
        "colab_type": "code",
        "colab": {}
      },
      "source": [
        "\n",
        "# Test Data \n",
        "from sklearn.model_selection import train_test_split\n",
        "\n"
      ],
      "execution_count": 0,
      "outputs": []
    },
    {
      "cell_type": "code",
      "metadata": {
        "id": "iYGgxYZE5hXs",
        "colab_type": "code",
        "colab": {}
      },
      "source": [
        ""
      ],
      "execution_count": 0,
      "outputs": []
    },
    {
      "cell_type": "code",
      "metadata": {
        "id": "kKBtKqH01o6O",
        "colab_type": "code",
        "outputId": "245a91ed-a42c-49ee-f3ab-5650bdeb707f",
        "colab": {
          "base_uri": "https://localhost:8080/",
          "height": 1000
        }
      },
      "source": [
        "# Set placeholders for feature and target vectors \n",
        "X = tf.placeholder(tf.float32) \n",
        "y = tf.placeholder(tf.float32) \n",
        "\n",
        "# Set model weights and bias \n",
        "W = tf.Variable(np.random.randn(), name=\"weight\") \n",
        "b = tf.Variable(np.random.randn(), name=\"bias\") \n",
        "\n",
        "# Construct a linear model \n",
        "linear_model = W*X + b \n",
        "\n",
        "# Mean squared error \n",
        "cost = tf.reduce_sum(tf.square(linear_model - y)) / (2*n_samples) \n",
        "\n",
        "# Gradient descent \n",
        "optimizer = tf.train.GradientDescentOptimizer(learning_rate).minimize(cost) \n",
        "\n",
        "# Initializing the variables \n",
        "init = tf.global_variables_initializer() \n",
        "\n",
        "# Launch the graph \n",
        "with tf.Session() as sess: \n",
        "\t# Load initialized variables in current session \n",
        "\tsess.run(init) \n",
        "\n",
        "\t# Fit all training data \n",
        "\tfor epoch in range(training_epochs): \n",
        "\n",
        "\t\t# perform gradient descent step \n",
        "\t\tsess.run(optimizer, feed_dict={X: train_X, y: train_y}) \n",
        "\t\t\n",
        "\t\t# Display logs per epoch step \n",
        "\t\tif (epoch+1) % display_step == 0: \n",
        "\t\t\tc = sess.run(cost, feed_dict={X: train_X, y: train_y}) \n",
        "\t\t\tprint(\"Epoch:{0:6} \\t Cost:{1:10.4} \\t W:{2:6.4} \\t b:{3:6.4}\". \n",
        "\t\t\t\tformat(epoch+1, c, sess.run(W), sess.run(b))) \n",
        "\t\t\t\n",
        "\t# Print final parameter values \n",
        "\tprint(\"Optimization Finished!\") \n",
        "\ttraining_cost = sess.run(cost, feed_dict={X: train_X, y: train_y}) \n",
        "\tprint(\"Final training cost:\", training_cost, \"W:\", sess.run(W), \"b:\", \n",
        "\t\tsess.run(b), '\\n') \n",
        "\t\n",
        "\t# Graphic display \n",
        "\tplt.plot(train_X, train_y, 'ro', label='Original data') \n",
        "\tplt.plot(train_X, sess.run(W) * train_X + sess.run(b), label='Fitted line') \n",
        "\tplt.legend() \n",
        "\tplt.show() \n",
        "\n",
        "\t# Testing the model \n",
        "\ttesting_cost = sess.run(tf.reduce_sum(tf.square(linear_model - y)) / (2 * test_X.shape[0]), \n",
        "\t\t\t\t\t\t\tfeed_dict={X: test_X, y: test_y}) \n",
        "\t\n",
        "\tprint(\"Final testing cost:\", testing_cost) \n",
        "\tprint(\"Absolute mean square loss difference:\", abs(training_cost - testing_cost)) \n",
        "\n",
        "\t# Display fitted line on test data \n",
        "\tplt.plot(test_X, test_y, 'bo', label='Testing data') \n",
        "\tplt.plot(train_X, sess.run(W) * train_X + sess.run(b), label='Fitted line') \n",
        "\tplt.legend() \n",
        "\tplt.show() \n"
      ],
      "execution_count": 0,
      "outputs": [
        {
          "output_type": "stream",
          "text": [
            "Epoch:   200 \t Cost:       nan \t W:   nan \t b:   nan\n",
            "Epoch:   400 \t Cost:       nan \t W:   nan \t b:   nan\n",
            "Epoch:   600 \t Cost:       nan \t W:   nan \t b:   nan\n",
            "Epoch:   800 \t Cost:       nan \t W:   nan \t b:   nan\n",
            "Epoch:  1000 \t Cost:       nan \t W:   nan \t b:   nan\n",
            "Epoch:  1200 \t Cost:       nan \t W:   nan \t b:   nan\n",
            "Epoch:  1400 \t Cost:       nan \t W:   nan \t b:   nan\n",
            "Epoch:  1600 \t Cost:       nan \t W:   nan \t b:   nan\n",
            "Epoch:  1800 \t Cost:       nan \t W:   nan \t b:   nan\n",
            "Epoch:  2000 \t Cost:       nan \t W:   nan \t b:   nan\n",
            "Optimization Finished!\n",
            "Final training cost: nan W: nan b: nan \n",
            "\n"
          ],
          "name": "stdout"
        },
        {
          "output_type": "display_data",
          "data": {
            "image/png": "[encoded data removed]",
            "text/plain": [
              "<Figure size 432x288 with 1 Axes>"
            ]
          },
          "metadata": {
            "tags": []
          }
        },
        {
          "output_type": "stream",
          "text": [
            "Final testing cost: nan\n",
            "Absolute mean square loss difference: nan\n"
          ],
          "name": "stdout"
        },
        {
          "output_type": "display_data",
          "data": {
            "image/png": "[encoded data removed]",
            "text/plain": [
              "<Figure size 432x288 with 1 Axes>"
            ]
          },
          "metadata": {
            "tags": []
          }
        }
      ]
    },
    {
      "cell_type": "code",
      "metadata": {
        "id": "Yy0TJBCKJRvz",
        "colab_type": "code",
        "colab": {}
      },
      "source": [
        ""
      ],
      "execution_count": 0,
      "outputs": []
    },
    {
      "cell_type": "code",
      "metadata": {
        "id": "5uwijp-tJbIC",
        "colab_type": "code",
        "outputId": "b63c7644-a91d-4470-d234-bb95b7c3038b",
        "colab": {
          "base_uri": "https://localhost:8080/",
          "height": 34
        }
      },
      "source": [
        "test_X"
      ],
      "execution_count": 0,
      "outputs": [
        {
          "output_type": "execute_result",
          "data": {
            "text/plain": [
              "array(['eta'], dtype='<U3')"
            ]
          },
          "metadata": {
            "tags": []
          },
          "execution_count": 142
        }
      ]
    }
  ]
}