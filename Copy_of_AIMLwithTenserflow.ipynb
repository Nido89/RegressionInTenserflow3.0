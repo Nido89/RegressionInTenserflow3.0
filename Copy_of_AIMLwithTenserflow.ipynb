{
  "nbformat": 4,
  "nbformat_minor": 0,
  "metadata": {
    "colab": {
      "name": "Copy of AIMLwithTenserflow.ipynb",
      "provenance": [],
      "collapsed_sections": [],
      "include_colab_link": true
    },
    "kernelspec": {
      "name": "python3",
      "display_name": "Python 3"
    },
    "accelerator": "GPU"
  },
  "cells": [
    {
      "cell_type": "markdown",
      "metadata": {
        "id": "view-in-github",
        "colab_type": "text"
      },
      "source": [
        "<a href=\"https://colab.research.google.com/github/Nido89/RegressionInTenserflow3.0/blob/master/Copy_of_AIMLwithTenserflow.ipynb\" target=\"_parent\"><img src=\"https://colab.research.google.com/assets/colab-badge.svg\" alt=\"Open In Colab\"/></a>"
      ]
    },
    {
      "cell_type": "code",
      "metadata": {
        "id": "q07nR7hVtQgJ",
        "colab_type": "code",
        "outputId": "a9e623d0-a5bf-45e3-ab66-02298c45c570",
        "colab": {
          "base_uri": "https://localhost:8080/",
          "height": 309
        }
      },
      "source": [
        "import pandas as pd\n",
        "df1 = pd.read_json(\"https://meri.digitraffic.fi/api/v1/metadata/vessels\")\n",
        "df1.head()"
      ],
      "execution_count": 0,
      "outputs": [
        {
          "output_type": "execute_result",
          "data": {
            "text/html": [
              "<div>\n",
              "<style scoped>\n",
              "    .dataframe tbody tr th:only-of-type {\n",
              "        vertical-align: middle;\n",
              "    }\n",
              "\n",
              "    .dataframe tbody tr th {\n",
              "        vertical-align: top;\n",
              "    }\n",
              "\n",
              "    .dataframe thead th {\n",
              "        text-align: right;\n",
              "    }\n",
              "</style>\n",
              "<table border=\"1\" class=\"dataframe\">\n",
              "  <thead>\n",
              "    <tr style=\"text-align: right;\">\n",
              "      <th></th>\n",
              "      <th>timestamp</th>\n",
              "      <th>destination</th>\n",
              "      <th>name</th>\n",
              "      <th>mmsi</th>\n",
              "      <th>callSign</th>\n",
              "      <th>imo</th>\n",
              "      <th>shipType</th>\n",
              "      <th>draught</th>\n",
              "      <th>eta</th>\n",
              "      <th>posType</th>\n",
              "      <th>referencePointA</th>\n",
              "      <th>referencePointB</th>\n",
              "      <th>referencePointC</th>\n",
              "      <th>referencePointD</th>\n",
              "    </tr>\n",
              "  </thead>\n",
              "  <tbody>\n",
              "    <tr>\n",
              "      <th>0</th>\n",
              "      <td>2019-10-27 11:30:06.994</td>\n",
              "      <td>S,PETERBUG</td>\n",
              "      <td>BALT FLOT 4</td>\n",
              "      <td>273383250</td>\n",
              "      <td>UEWW</td>\n",
              "      <td>9751913</td>\n",
              "      <td>80</td>\n",
              "      <td>30</td>\n",
              "      <td>711936</td>\n",
              "      <td>15</td>\n",
              "      <td>119</td>\n",
              "      <td>22</td>\n",
              "      <td>8</td>\n",
              "      <td>9</td>\n",
              "    </tr>\n",
              "    <tr>\n",
              "      <th>1</th>\n",
              "      <td>2019-08-28 05:18:20.325</td>\n",
              "      <td>ROOMASSAARE  ABRUKA</td>\n",
              "      <td>ABRO</td>\n",
              "      <td>276808000</td>\n",
              "      <td>ESKA</td>\n",
              "      <td>0</td>\n",
              "      <td>60</td>\n",
              "      <td>0</td>\n",
              "      <td>1596</td>\n",
              "      <td>1</td>\n",
              "      <td>5</td>\n",
              "      <td>10</td>\n",
              "      <td>2</td>\n",
              "      <td>2</td>\n",
              "    </tr>\n",
              "    <tr>\n",
              "      <th>2</th>\n",
              "      <td>2018-10-17 22:10:27.596</td>\n",
              "      <td>SPB</td>\n",
              "      <td>VOLGONEFT-102</td>\n",
              "      <td>273274000</td>\n",
              "      <td>UBCE</td>\n",
              "      <td>0</td>\n",
              "      <td>90</td>\n",
              "      <td>36</td>\n",
              "      <td>691456</td>\n",
              "      <td>15</td>\n",
              "      <td>103</td>\n",
              "      <td>23</td>\n",
              "      <td>6</td>\n",
              "      <td>10</td>\n",
              "    </tr>\n",
              "    <tr>\n",
              "      <th>3</th>\n",
              "      <td>2018-10-10 18:19:37.007</td>\n",
              "      <td>ICDAS TURKEY</td>\n",
              "      <td>SPAR URSA</td>\n",
              "      <td>259794000</td>\n",
              "      <td>LALC7</td>\n",
              "      <td>9490856</td>\n",
              "      <td>70</td>\n",
              "      <td>91</td>\n",
              "      <td>707328</td>\n",
              "      <td>1</td>\n",
              "      <td>160</td>\n",
              "      <td>30</td>\n",
              "      <td>20</td>\n",
              "      <td>12</td>\n",
              "    </tr>\n",
              "    <tr>\n",
              "      <th>4</th>\n",
              "      <td>2019-09-17 23:39:06.515</td>\n",
              "      <td>STETTIN</td>\n",
              "      <td>LISA D</td>\n",
              "      <td>304559000</td>\n",
              "      <td>V2OK3</td>\n",
              "      <td>8205187</td>\n",
              "      <td>70</td>\n",
              "      <td>23</td>\n",
              "      <td>630144</td>\n",
              "      <td>1</td>\n",
              "      <td>60</td>\n",
              "      <td>14</td>\n",
              "      <td>3</td>\n",
              "      <td>9</td>\n",
              "    </tr>\n",
              "  </tbody>\n",
              "</table>\n",
              "</div>"
            ],
            "text/plain": [
              "                timestamp  ... referencePointD\n",
              "0 2019-10-27 11:30:06.994  ...               9\n",
              "1 2019-08-28 05:18:20.325  ...               2\n",
              "2 2018-10-17 22:10:27.596  ...              10\n",
              "3 2018-10-10 18:19:37.007  ...              12\n",
              "4 2019-09-17 23:39:06.515  ...               9\n",
              "\n",
              "[5 rows x 14 columns]"
            ]
          },
          "metadata": {
            "tags": []
          },
          "execution_count": 1
        }
      ]
    },
    {
      "cell_type": "code",
      "metadata": {
        "id": "BaNfFqxZtr9A",
        "colab_type": "code",
        "outputId": "fd659a63-4951-43d6-9710-b6c6d52e462b",
        "colab": {
          "base_uri": "https://localhost:8080/",
          "height": 204
        }
      },
      "source": [
        "import pandas as pd\n",
        "url='https://cdn.fmi.fi/fmiodata-convert-api/output/csv-d11b8cf1-66ea-4849-94c9-e869ba924572.csv'\n",
        "df2 = pd.read_csv(url) \n",
        "df2.head()"
      ],
      "execution_count": 0,
      "outputs": [
        {
          "output_type": "execute_result",
          "data": {
            "text/html": [
              "<div>\n",
              "<style scoped>\n",
              "    .dataframe tbody tr th:only-of-type {\n",
              "        vertical-align: middle;\n",
              "    }\n",
              "\n",
              "    .dataframe tbody tr th {\n",
              "        vertical-align: top;\n",
              "    }\n",
              "\n",
              "    .dataframe thead th {\n",
              "        text-align: right;\n",
              "    }\n",
              "</style>\n",
              "<table border=\"1\" class=\"dataframe\">\n",
              "  <thead>\n",
              "    <tr style=\"text-align: right;\">\n",
              "      <th></th>\n",
              "      <th>Year</th>\n",
              "      <th>m</th>\n",
              "      <th>d</th>\n",
              "      <th>Time</th>\n",
              "      <th>Time zone</th>\n",
              "      <th>Horizontal visibility (m)</th>\n",
              "      <th>Wind speed (m/s)</th>\n",
              "    </tr>\n",
              "  </thead>\n",
              "  <tbody>\n",
              "    <tr>\n",
              "      <th>0</th>\n",
              "      <td>2019</td>\n",
              "      <td>10</td>\n",
              "      <td>27</td>\n",
              "      <td>00:00</td>\n",
              "      <td>UTC</td>\n",
              "      <td>27070.0</td>\n",
              "      <td>0.0</td>\n",
              "    </tr>\n",
              "    <tr>\n",
              "      <th>1</th>\n",
              "      <td>2019</td>\n",
              "      <td>10</td>\n",
              "      <td>27</td>\n",
              "      <td>01:00</td>\n",
              "      <td>UTC</td>\n",
              "      <td>4870.0</td>\n",
              "      <td>0.0</td>\n",
              "    </tr>\n",
              "    <tr>\n",
              "      <th>2</th>\n",
              "      <td>2019</td>\n",
              "      <td>10</td>\n",
              "      <td>27</td>\n",
              "      <td>02:00</td>\n",
              "      <td>UTC</td>\n",
              "      <td>4520.0</td>\n",
              "      <td>0.0</td>\n",
              "    </tr>\n",
              "    <tr>\n",
              "      <th>3</th>\n",
              "      <td>2019</td>\n",
              "      <td>10</td>\n",
              "      <td>27</td>\n",
              "      <td>03:00</td>\n",
              "      <td>UTC</td>\n",
              "      <td>7560.0</td>\n",
              "      <td>0.0</td>\n",
              "    </tr>\n",
              "    <tr>\n",
              "      <th>4</th>\n",
              "      <td>2019</td>\n",
              "      <td>10</td>\n",
              "      <td>27</td>\n",
              "      <td>04:00</td>\n",
              "      <td>UTC</td>\n",
              "      <td>10520.0</td>\n",
              "      <td>0.0</td>\n",
              "    </tr>\n",
              "  </tbody>\n",
              "</table>\n",
              "</div>"
            ],
            "text/plain": [
              "   Year   m   d   Time Time zone  Horizontal visibility (m)  Wind speed (m/s)\n",
              "0  2019  10  27  00:00       UTC                    27070.0               0.0\n",
              "1  2019  10  27  01:00       UTC                     4870.0               0.0\n",
              "2  2019  10  27  02:00       UTC                     4520.0               0.0\n",
              "3  2019  10  27  03:00       UTC                     7560.0               0.0\n",
              "4  2019  10  27  04:00       UTC                    10520.0               0.0"
            ]
          },
          "metadata": {
            "tags": []
          },
          "execution_count": 2
        }
      ]
    },
    {
      "cell_type": "code",
      "metadata": {
        "id": "w38oB5pZvKyo",
        "colab_type": "code",
        "outputId": "84aa2650-867a-4b5c-a023-d7a0a993e364",
        "colab": {
          "base_uri": "https://localhost:8080/",
          "height": 439
        }
      },
      "source": [
        "df3=df_index = pd.merge(df1, df2, right_index=True, left_index=True)\n",
        "\n",
        "df3.head(7)\n"
      ],
      "execution_count": 0,
      "outputs": [
        {
          "output_type": "execute_result",
          "data": {
            "text/html": [
              "<div>\n",
              "<style scoped>\n",
              "    .dataframe tbody tr th:only-of-type {\n",
              "        vertical-align: middle;\n",
              "    }\n",
              "\n",
              "    .dataframe tbody tr th {\n",
              "        vertical-align: top;\n",
              "    }\n",
              "\n",
              "    .dataframe thead th {\n",
              "        text-align: right;\n",
              "    }\n",
              "</style>\n",
              "<table border=\"1\" class=\"dataframe\">\n",
              "  <thead>\n",
              "    <tr style=\"text-align: right;\">\n",
              "      <th></th>\n",
              "      <th>timestamp</th>\n",
              "      <th>destination</th>\n",
              "      <th>name</th>\n",
              "      <th>mmsi</th>\n",
              "      <th>callSign</th>\n",
              "      <th>imo</th>\n",
              "      <th>shipType</th>\n",
              "      <th>draught</th>\n",
              "      <th>eta</th>\n",
              "      <th>posType</th>\n",
              "      <th>referencePointA</th>\n",
              "      <th>referencePointB</th>\n",
              "      <th>referencePointC</th>\n",
              "      <th>referencePointD</th>\n",
              "      <th>Year</th>\n",
              "      <th>m</th>\n",
              "      <th>d</th>\n",
              "      <th>Time</th>\n",
              "      <th>Time zone</th>\n",
              "      <th>Horizontal visibility (m)</th>\n",
              "      <th>Wind speed (m/s)</th>\n",
              "    </tr>\n",
              "  </thead>\n",
              "  <tbody>\n",
              "    <tr>\n",
              "      <th>0</th>\n",
              "      <td>2019-10-27 11:30:06.994</td>\n",
              "      <td>S,PETERBUG</td>\n",
              "      <td>BALT FLOT 4</td>\n",
              "      <td>273383250</td>\n",
              "      <td>UEWW</td>\n",
              "      <td>9751913</td>\n",
              "      <td>80</td>\n",
              "      <td>30</td>\n",
              "      <td>711936</td>\n",
              "      <td>15</td>\n",
              "      <td>119</td>\n",
              "      <td>22</td>\n",
              "      <td>8</td>\n",
              "      <td>9</td>\n",
              "      <td>2019</td>\n",
              "      <td>10</td>\n",
              "      <td>27</td>\n",
              "      <td>00:00</td>\n",
              "      <td>UTC</td>\n",
              "      <td>27070.0</td>\n",
              "      <td>0.0</td>\n",
              "    </tr>\n",
              "    <tr>\n",
              "      <th>1</th>\n",
              "      <td>2019-08-28 05:18:20.325</td>\n",
              "      <td>ROOMASSAARE  ABRUKA</td>\n",
              "      <td>ABRO</td>\n",
              "      <td>276808000</td>\n",
              "      <td>ESKA</td>\n",
              "      <td>0</td>\n",
              "      <td>60</td>\n",
              "      <td>0</td>\n",
              "      <td>1596</td>\n",
              "      <td>1</td>\n",
              "      <td>5</td>\n",
              "      <td>10</td>\n",
              "      <td>2</td>\n",
              "      <td>2</td>\n",
              "      <td>2019</td>\n",
              "      <td>10</td>\n",
              "      <td>27</td>\n",
              "      <td>01:00</td>\n",
              "      <td>UTC</td>\n",
              "      <td>4870.0</td>\n",
              "      <td>0.0</td>\n",
              "    </tr>\n",
              "    <tr>\n",
              "      <th>2</th>\n",
              "      <td>2018-10-17 22:10:27.596</td>\n",
              "      <td>SPB</td>\n",
              "      <td>VOLGONEFT-102</td>\n",
              "      <td>273274000</td>\n",
              "      <td>UBCE</td>\n",
              "      <td>0</td>\n",
              "      <td>90</td>\n",
              "      <td>36</td>\n",
              "      <td>691456</td>\n",
              "      <td>15</td>\n",
              "      <td>103</td>\n",
              "      <td>23</td>\n",
              "      <td>6</td>\n",
              "      <td>10</td>\n",
              "      <td>2019</td>\n",
              "      <td>10</td>\n",
              "      <td>27</td>\n",
              "      <td>02:00</td>\n",
              "      <td>UTC</td>\n",
              "      <td>4520.0</td>\n",
              "      <td>0.0</td>\n",
              "    </tr>\n",
              "    <tr>\n",
              "      <th>3</th>\n",
              "      <td>2018-10-10 18:19:37.007</td>\n",
              "      <td>ICDAS TURKEY</td>\n",
              "      <td>SPAR URSA</td>\n",
              "      <td>259794000</td>\n",
              "      <td>LALC7</td>\n",
              "      <td>9490856</td>\n",
              "      <td>70</td>\n",
              "      <td>91</td>\n",
              "      <td>707328</td>\n",
              "      <td>1</td>\n",
              "      <td>160</td>\n",
              "      <td>30</td>\n",
              "      <td>20</td>\n",
              "      <td>12</td>\n",
              "      <td>2019</td>\n",
              "      <td>10</td>\n",
              "      <td>27</td>\n",
              "      <td>03:00</td>\n",
              "      <td>UTC</td>\n",
              "      <td>7560.0</td>\n",
              "      <td>0.0</td>\n",
              "    </tr>\n",
              "    <tr>\n",
              "      <th>4</th>\n",
              "      <td>2019-09-17 23:39:06.515</td>\n",
              "      <td>STETTIN</td>\n",
              "      <td>LISA D</td>\n",
              "      <td>304559000</td>\n",
              "      <td>V2OK3</td>\n",
              "      <td>8205187</td>\n",
              "      <td>70</td>\n",
              "      <td>23</td>\n",
              "      <td>630144</td>\n",
              "      <td>1</td>\n",
              "      <td>60</td>\n",
              "      <td>14</td>\n",
              "      <td>3</td>\n",
              "      <td>9</td>\n",
              "      <td>2019</td>\n",
              "      <td>10</td>\n",
              "      <td>27</td>\n",
              "      <td>04:00</td>\n",
              "      <td>UTC</td>\n",
              "      <td>10520.0</td>\n",
              "      <td>0.0</td>\n",
              "    </tr>\n",
              "    <tr>\n",
              "      <th>5</th>\n",
              "      <td>2019-09-12 14:24:30.748</td>\n",
              "      <td>US NYC</td>\n",
              "      <td>MARJORIE K</td>\n",
              "      <td>538004992</td>\n",
              "      <td>V7AG7</td>\n",
              "      <td>9661235</td>\n",
              "      <td>80</td>\n",
              "      <td>114</td>\n",
              "      <td>650432</td>\n",
              "      <td>1</td>\n",
              "      <td>149</td>\n",
              "      <td>34</td>\n",
              "      <td>20</td>\n",
              "      <td>12</td>\n",
              "      <td>2019</td>\n",
              "      <td>10</td>\n",
              "      <td>27</td>\n",
              "      <td>05:00</td>\n",
              "      <td>UTC</td>\n",
              "      <td>8750.0</td>\n",
              "      <td>0.0</td>\n",
              "    </tr>\n",
              "    <tr>\n",
              "      <th>6</th>\n",
              "      <td>2018-11-24 06:45:59.204</td>\n",
              "      <td>SUEZ CANAL</td>\n",
              "      <td>PANSTELLAR</td>\n",
              "      <td>538007173</td>\n",
              "      <td>V7YC7</td>\n",
              "      <td>9272943</td>\n",
              "      <td>70</td>\n",
              "      <td>142</td>\n",
              "      <td>803584</td>\n",
              "      <td>1</td>\n",
              "      <td>194</td>\n",
              "      <td>31</td>\n",
              "      <td>17</td>\n",
              "      <td>15</td>\n",
              "      <td>2019</td>\n",
              "      <td>10</td>\n",
              "      <td>27</td>\n",
              "      <td>06:00</td>\n",
              "      <td>UTC</td>\n",
              "      <td>12850.0</td>\n",
              "      <td>0.0</td>\n",
              "    </tr>\n",
              "  </tbody>\n",
              "</table>\n",
              "</div>"
            ],
            "text/plain": [
              "                timestamp  ... Wind speed (m/s)\n",
              "0 2019-10-27 11:30:06.994  ...              0.0\n",
              "1 2019-08-28 05:18:20.325  ...              0.0\n",
              "2 2018-10-17 22:10:27.596  ...              0.0\n",
              "3 2018-10-10 18:19:37.007  ...              0.0\n",
              "4 2019-09-17 23:39:06.515  ...              0.0\n",
              "5 2019-09-12 14:24:30.748  ...              0.0\n",
              "6 2018-11-24 06:45:59.204  ...              0.0\n",
              "\n",
              "[7 rows x 21 columns]"
            ]
          },
          "metadata": {
            "tags": []
          },
          "execution_count": 3
        }
      ]
    },
    {
      "cell_type": "code",
      "metadata": {
        "id": "iTbMwK7bvSCW",
        "colab_type": "code",
        "outputId": "ddfd6c60-9a6f-4fbb-df2e-1ae0ef367730",
        "colab": {
          "base_uri": "https://localhost:8080/",
          "height": 204
        }
      },
      "source": [
        "df4 = df3[\"eta\"]\n",
        "  \n",
        "df4.head(10)"
      ],
      "execution_count": 0,
      "outputs": [
        {
          "output_type": "execute_result",
          "data": {
            "text/plain": [
              "0    711936\n",
              "1      1596\n",
              "2    691456\n",
              "3    707328\n",
              "4    630144\n",
              "5    650432\n",
              "6    803584\n",
              "7    678208\n",
              "8    727808\n",
              "9    254430\n",
              "Name: eta, dtype: int64"
            ]
          },
          "metadata": {
            "tags": []
          },
          "execution_count": 4
        }
      ]
    },
    {
      "cell_type": "code",
      "metadata": {
        "id": "iabgsxgBvTHe",
        "colab_type": "code",
        "outputId": "3001dab9-1ff1-4e48-c72c-df538b42d4ec",
        "colab": {
          "base_uri": "https://localhost:8080/",
          "height": 204
        }
      },
      "source": [
        "df5 = df2[\"Horizontal visibility (m)\"]\n",
        "df5.head(10)"
      ],
      "execution_count": 0,
      "outputs": [
        {
          "output_type": "execute_result",
          "data": {
            "text/plain": [
              "0    27070.0\n",
              "1     4870.0\n",
              "2     4520.0\n",
              "3     7560.0\n",
              "4    10520.0\n",
              "5     8750.0\n",
              "6    12850.0\n",
              "7    16700.0\n",
              "8    13940.0\n",
              "9    29700.0\n",
              "Name: Horizontal visibility (m), dtype: float64"
            ]
          },
          "metadata": {
            "tags": []
          },
          "execution_count": 5
        }
      ]
    },
    {
      "cell_type": "code",
      "metadata": {
        "id": "I9TC0HamvVau",
        "colab_type": "code",
        "outputId": "58bc2e31-6820-4152-e6cc-00528e6dfd4e",
        "colab": {
          "base_uri": "https://localhost:8080/",
          "height": 204
        }
      },
      "source": [
        "df6= df2[\"Wind speed (m/s)\"]\n",
        "df6.head(10)"
      ],
      "execution_count": 0,
      "outputs": [
        {
          "output_type": "execute_result",
          "data": {
            "text/plain": [
              "0    0.0\n",
              "1    0.0\n",
              "2    0.0\n",
              "3    0.0\n",
              "4    0.0\n",
              "5    0.0\n",
              "6    0.0\n",
              "7    0.0\n",
              "8    0.0\n",
              "9    3.0\n",
              "Name: Wind speed (m/s), dtype: float64"
            ]
          },
          "metadata": {
            "tags": []
          },
          "execution_count": 6
        }
      ]
    },
    {
      "cell_type": "code",
      "metadata": {
        "id": "1QewaOuBvagW",
        "colab_type": "code",
        "outputId": "ca8299ad-bb49-4a89-cb8c-dae844882b8b",
        "colab": {
          "base_uri": "https://localhost:8080/",
          "height": 266
        }
      },
      "source": [
        "#Horizontal Visibility plus eta\n",
        "df7= pd.merge(df4, df5, right_index=True, left_index=True)\n",
        "df7.head(7)\n"
      ],
      "execution_count": 0,
      "outputs": [
        {
          "output_type": "execute_result",
          "data": {
            "text/html": [
              "<div>\n",
              "<style scoped>\n",
              "    .dataframe tbody tr th:only-of-type {\n",
              "        vertical-align: middle;\n",
              "    }\n",
              "\n",
              "    .dataframe tbody tr th {\n",
              "        vertical-align: top;\n",
              "    }\n",
              "\n",
              "    .dataframe thead th {\n",
              "        text-align: right;\n",
              "    }\n",
              "</style>\n",
              "<table border=\"1\" class=\"dataframe\">\n",
              "  <thead>\n",
              "    <tr style=\"text-align: right;\">\n",
              "      <th></th>\n",
              "      <th>eta</th>\n",
              "      <th>Horizontal visibility (m)</th>\n",
              "    </tr>\n",
              "  </thead>\n",
              "  <tbody>\n",
              "    <tr>\n",
              "      <th>0</th>\n",
              "      <td>711936</td>\n",
              "      <td>27070.0</td>\n",
              "    </tr>\n",
              "    <tr>\n",
              "      <th>1</th>\n",
              "      <td>1596</td>\n",
              "      <td>4870.0</td>\n",
              "    </tr>\n",
              "    <tr>\n",
              "      <th>2</th>\n",
              "      <td>691456</td>\n",
              "      <td>4520.0</td>\n",
              "    </tr>\n",
              "    <tr>\n",
              "      <th>3</th>\n",
              "      <td>707328</td>\n",
              "      <td>7560.0</td>\n",
              "    </tr>\n",
              "    <tr>\n",
              "      <th>4</th>\n",
              "      <td>630144</td>\n",
              "      <td>10520.0</td>\n",
              "    </tr>\n",
              "    <tr>\n",
              "      <th>5</th>\n",
              "      <td>650432</td>\n",
              "      <td>8750.0</td>\n",
              "    </tr>\n",
              "    <tr>\n",
              "      <th>6</th>\n",
              "      <td>803584</td>\n",
              "      <td>12850.0</td>\n",
              "    </tr>\n",
              "  </tbody>\n",
              "</table>\n",
              "</div>"
            ],
            "text/plain": [
              "      eta  Horizontal visibility (m)\n",
              "0  711936                    27070.0\n",
              "1    1596                     4870.0\n",
              "2  691456                     4520.0\n",
              "3  707328                     7560.0\n",
              "4  630144                    10520.0\n",
              "5  650432                     8750.0\n",
              "6  803584                    12850.0"
            ]
          },
          "metadata": {
            "tags": []
          },
          "execution_count": 7
        }
      ]
    },
    {
      "cell_type": "code",
      "metadata": {
        "id": "GuPz8YaDvdGF",
        "colab_type": "code",
        "outputId": "b2470796-ac06-4a63-c95a-78f2fbd33a83",
        "colab": {
          "base_uri": "https://localhost:8080/",
          "height": 266
        }
      },
      "source": [
        "#eta plus WindSpeed\n",
        "df8= pd.merge(df4, df6, right_index=True, left_index=True)\n",
        "df8.tail(7)"
      ],
      "execution_count": 0,
      "outputs": [
        {
          "output_type": "execute_result",
          "data": {
            "text/html": [
              "<div>\n",
              "<style scoped>\n",
              "    .dataframe tbody tr th:only-of-type {\n",
              "        vertical-align: middle;\n",
              "    }\n",
              "\n",
              "    .dataframe tbody tr th {\n",
              "        vertical-align: top;\n",
              "    }\n",
              "\n",
              "    .dataframe thead th {\n",
              "        text-align: right;\n",
              "    }\n",
              "</style>\n",
              "<table border=\"1\" class=\"dataframe\">\n",
              "  <thead>\n",
              "    <tr style=\"text-align: right;\">\n",
              "      <th></th>\n",
              "      <th>eta</th>\n",
              "      <th>Wind speed (m/s)</th>\n",
              "    </tr>\n",
              "  </thead>\n",
              "  <tbody>\n",
              "    <tr>\n",
              "      <th>18</th>\n",
              "      <td>771456</td>\n",
              "      <td>0.0</td>\n",
              "    </tr>\n",
              "    <tr>\n",
              "      <th>19</th>\n",
              "      <td>612736</td>\n",
              "      <td>0.0</td>\n",
              "    </tr>\n",
              "    <tr>\n",
              "      <th>20</th>\n",
              "      <td>639488</td>\n",
              "      <td>0.0</td>\n",
              "    </tr>\n",
              "    <tr>\n",
              "      <th>21</th>\n",
              "      <td>74994</td>\n",
              "      <td>0.0</td>\n",
              "    </tr>\n",
              "    <tr>\n",
              "      <th>22</th>\n",
              "      <td>712705</td>\n",
              "      <td>0.0</td>\n",
              "    </tr>\n",
              "    <tr>\n",
              "      <th>23</th>\n",
              "      <td>700800</td>\n",
              "      <td>0.0</td>\n",
              "    </tr>\n",
              "    <tr>\n",
              "      <th>24</th>\n",
              "      <td>588820</td>\n",
              "      <td>0.0</td>\n",
              "    </tr>\n",
              "  </tbody>\n",
              "</table>\n",
              "</div>"
            ],
            "text/plain": [
              "       eta  Wind speed (m/s)\n",
              "18  771456               0.0\n",
              "19  612736               0.0\n",
              "20  639488               0.0\n",
              "21   74994               0.0\n",
              "22  712705               0.0\n",
              "23  700800               0.0\n",
              "24  588820               0.0"
            ]
          },
          "metadata": {
            "tags": []
          },
          "execution_count": 8
        }
      ]
    },
    {
      "cell_type": "code",
      "metadata": {
        "id": "SXuCmKrZvhT9",
        "colab_type": "code",
        "colab": {}
      },
      "source": [
        "## Import packages\n",
        "import tensorflow as tf\n",
        "import numpy\n",
        "import pandas as pd\n",
        "import matplotlib.pyplot as plt\n",
        "rng = numpy.random"
      ],
      "execution_count": 0,
      "outputs": []
    },
    {
      "cell_type": "code",
      "metadata": {
        "id": "WkPH9JnSI3Wy",
        "colab_type": "code",
        "colab": {}
      },
      "source": [
        "#Define your useful columns of data\n",
        "column1=df7['eta'].values\n",
        "column2=df7['Horizontal visibility (m)'].values"
      ],
      "execution_count": 0,
      "outputs": []
    },
    {
      "cell_type": "code",
      "metadata": {
        "id": "r8BD49BgcNob",
        "colab_type": "code",
        "colab": {}
      },
      "source": [
        "# HyperParameters\n",
        "learning_rate = 0.01\n",
        "training_epochs = 3000\n"
      ],
      "execution_count": 0,
      "outputs": []
    },
    {
      "cell_type": "code",
      "metadata": {
        "id": "n6m7IqfFcRhe",
        "colab_type": "code",
        "colab": {}
      },
      "source": [
        "#Parameter\n",
        "display_step = 10"
      ],
      "execution_count": 0,
      "outputs": []
    },
    {
      "cell_type": "code",
      "metadata": {
        "id": "HK2vzroBcTuS",
        "colab_type": "code",
        "colab": {}
      },
      "source": [
        "# Training Data (X,Y) Sets\n",
        "train_X = numpy.asarray(column1)\n",
        "train_Y = numpy.asarray(column2)"
      ],
      "execution_count": 0,
      "outputs": []
    },
    {
      "cell_type": "code",
      "metadata": {
        "id": "NdnQ0y67cdNw",
        "colab_type": "code",
        "colab": {}
      },
      "source": [
        "#Specifying the length of the train_x data\n",
        "n_samples = train_X.shape[0]"
      ],
      "execution_count": 0,
      "outputs": []
    },
    {
      "cell_type": "code",
      "metadata": {
        "id": "QiyhAixmcgei",
        "colab_type": "code",
        "colab": {}
      },
      "source": [
        "# tf Graph Input --- Setting the dtype for the placeholder information\n",
        "X = tf.placeholder(\"float\")\n",
        "Y = tf.placeholder(\"float\")"
      ],
      "execution_count": 0,
      "outputs": []
    },
    {
      "cell_type": "code",
      "metadata": {
        "id": "jFpCm7nncj_t",
        "colab_type": "code",
        "colab": {}
      },
      "source": [
        "# Set model weights This is initializing the guesses of the model for weight and bias\n",
        "W = tf.Variable(rng.randn(), name=\"weight\")\n",
        "b = tf.Variable(rng.randn(), name=\"bias\")"
      ],
      "execution_count": 0,
      "outputs": []
    },
    {
      "cell_type": "code",
      "metadata": {
        "id": "ForUCZPycnjB",
        "colab_type": "code",
        "colab": {}
      },
      "source": [
        "# Construct a linear model (y=WX+b)\n",
        "pred = tf.add(tf.multiply(X, W), b)"
      ],
      "execution_count": 0,
      "outputs": []
    },
    {
      "cell_type": "code",
      "metadata": {
        "id": "Zm2P4wS4vYAp",
        "colab_type": "code",
        "colab": {}
      },
      "source": [
        "# Mean squared error\n",
        "cost = tf.reduce_sum(tf.pow(pred-Y, 2))/(2*n_samples)"
      ],
      "execution_count": 0,
      "outputs": []
    },
    {
      "cell_type": "code",
      "metadata": {
        "id": "0YcMTfRActIk",
        "colab_type": "code",
        "outputId": "1220cc56-7e1b-4d17-fb42-ac50911e3fa9",
        "colab": {
          "base_uri": "https://localhost:8080/",
          "height": 163
        }
      },
      "source": [
        "#  Note, minimize() knows to modify W and b because Variable objects are trainable=True by default\n",
        "optimizer = tf.train.GradientDescentOptimizer(learning_rate).minimize(error)"
      ],
      "execution_count": 0,
      "outputs": [
        {
          "output_type": "error",
          "ename": "NameError",
          "evalue": "ignored",
          "traceback": [
            "\u001b[0;31m---------------------------------------------------------------------------\u001b[0m",
            "\u001b[0;31mNameError\u001b[0m                                 Traceback (most recent call last)",
            "\u001b[0;32m<ipython-input-35-edd02801c78d>\u001b[0m in \u001b[0;36m<module>\u001b[0;34m()\u001b[0m\n\u001b[0;32m----> 1\u001b[0;31m \u001b[0moptimizer\u001b[0m \u001b[0;34m=\u001b[0m \u001b[0mtf\u001b[0m\u001b[0;34m.\u001b[0m\u001b[0mtrain\u001b[0m\u001b[0;34m.\u001b[0m\u001b[0mGradientDescentOptimizer\u001b[0m\u001b[0;34m(\u001b[0m\u001b[0mlearning_rate\u001b[0m\u001b[0;34m)\u001b[0m\u001b[0;34m.\u001b[0m\u001b[0mminimize\u001b[0m\u001b[0;34m(\u001b[0m\u001b[0merror\u001b[0m\u001b[0;34m)\u001b[0m\u001b[0;34m\u001b[0m\u001b[0;34m\u001b[0m\u001b[0m\n\u001b[0m",
            "\u001b[0;31mNameError\u001b[0m: name 'error' is not defined"
          ]
        }
      ]
    },
    {
      "cell_type": "code",
      "metadata": {
        "id": "HbMJh5EBc1wt",
        "colab_type": "code",
        "colab": {}
      },
      "source": [
        "# Initialize the variables (i.e. assign their default value)\n",
        "init = tf.global_variables_initializer()\n"
      ],
      "execution_count": 0,
      "outputs": []
    },
    {
      "cell_type": "code",
      "metadata": {
        "id": "wj2Dhmsec6tf",
        "colab_type": "code",
        "outputId": "5b94002e-2e3b-4fc6-92f0-df8d6dab8b8f",
        "colab": {
          "base_uri": "https://localhost:8080/",
          "height": 231
        }
      },
      "source": [
        "# Start training\n",
        "with tf.Session() as sess:\n",
        "\n",
        "    # Run the initializer\n",
        "    sess.run(init)\n",
        "\n",
        "    # Fit all training data\n",
        "    for epoch in range(training_epochs):\n",
        "        for (x, y) in zip(train_X, train_Y):\n",
        "            sess.run(optimizer, feed_dict={X: x, Y: y})\n",
        "\n",
        "        # Display logs per epoch step\n",
        "        if (epoch+1) % display_step == 0:\n",
        "            c = sess.run(cost, feed_dict={X: train_X, Y:train_Y})\n",
        "            print(\"Epoch:\", '%04d' % (epoch+1), \"cost=\", \"{:.9f}\".format(c), \\\n",
        "                \"W=\", sess.run(W), \"b=\", sess.run(b))\n",
        "\n",
        "    print(\"Optimization Finished!\")\n",
        "    training_cost = sess.run(cost, feed_dict={X: train_X, Y: train_Y})\n",
        "    print(\"Training cost=\", training_cost, \"W=\", sess.run(W), \"b=\", sess.run(b), '\\n')\n",
        "\n",
        "    # Graphic display\n",
        "    plt.plot(train_X, train_Y, 'ro', label='Original data')\n",
        "    plt.plot(train_X, sess.run(W) * train_X + sess.run(b), label='Fitted line')\n",
        "    plt.legend()\n",
        "    plt.show()\n",
        "\n",
        "    # Testing example, as requested (Issue #2)\n",
        "    test_X = numpy.asarray([6.83, 4.668, 8.9, 7.91, 5.7, 8.7, 3.1, 2.1])\n",
        "    test_Y = numpy.asarray([1.84, 2.273, 3.2, 2.831, 2.92, 3.24, 1.35, 1.03])\n",
        "\n",
        "    print(\"Testing... (Mean square loss Comparison)\")\n",
        "    testing_cost = sess.run(\n",
        "        tf.reduce_sum(tf.pow(pred - Y, 2)) / (2 * test_X.shape[0]),\n",
        "        feed_dict={X: test_X, Y: test_Y})  # same function as cost above\n",
        "    print(\"Testing cost=\", testing_cost)\n",
        "    print(\"Absolute mean square loss difference:\", abs(\n",
        "        training_cost - testing_cost))\n",
        "\n",
        "    plt.plot(test_X, test_Y, 'bo', label='Testing data')\n",
        "    plt.plot(train_X, sess.run(W) * train_X + sess.run(b), label='Fitted line')\n",
        "    plt.legend()\n",
        "    plt.show()"
      ],
      "execution_count": 0,
      "outputs": [
        {
          "output_type": "error",
          "ename": "NameError",
          "evalue": "ignored",
          "traceback": [
            "\u001b[0;31m---------------------------------------------------------------------------\u001b[0m",
            "\u001b[0;31mNameError\u001b[0m                                 Traceback (most recent call last)",
            "\u001b[0;32m<ipython-input-34-712f592cfa23>\u001b[0m in \u001b[0;36m<module>\u001b[0;34m()\u001b[0m\n\u001b[1;32m      7\u001b[0m     \u001b[0;32mfor\u001b[0m \u001b[0mepoch\u001b[0m \u001b[0;32min\u001b[0m \u001b[0mrange\u001b[0m\u001b[0;34m(\u001b[0m\u001b[0mtraining_epochs\u001b[0m\u001b[0;34m)\u001b[0m\u001b[0;34m:\u001b[0m\u001b[0;34m\u001b[0m\u001b[0;34m\u001b[0m\u001b[0m\n\u001b[1;32m      8\u001b[0m         \u001b[0;32mfor\u001b[0m \u001b[0;34m(\u001b[0m\u001b[0mx\u001b[0m\u001b[0;34m,\u001b[0m \u001b[0my\u001b[0m\u001b[0;34m)\u001b[0m \u001b[0;32min\u001b[0m \u001b[0mzip\u001b[0m\u001b[0;34m(\u001b[0m\u001b[0mtrain_X\u001b[0m\u001b[0;34m,\u001b[0m \u001b[0mtrain_Y\u001b[0m\u001b[0;34m)\u001b[0m\u001b[0;34m:\u001b[0m\u001b[0;34m\u001b[0m\u001b[0;34m\u001b[0m\u001b[0m\n\u001b[0;32m----> 9\u001b[0;31m             \u001b[0msess\u001b[0m\u001b[0;34m.\u001b[0m\u001b[0mrun\u001b[0m\u001b[0;34m(\u001b[0m\u001b[0moptimizer\u001b[0m\u001b[0;34m,\u001b[0m \u001b[0mfeed_dict\u001b[0m\u001b[0;34m=\u001b[0m\u001b[0;34m{\u001b[0m\u001b[0mX\u001b[0m\u001b[0;34m:\u001b[0m \u001b[0mx\u001b[0m\u001b[0;34m,\u001b[0m \u001b[0mY\u001b[0m\u001b[0;34m:\u001b[0m \u001b[0my\u001b[0m\u001b[0;34m}\u001b[0m\u001b[0;34m)\u001b[0m\u001b[0;34m\u001b[0m\u001b[0;34m\u001b[0m\u001b[0m\n\u001b[0m\u001b[1;32m     10\u001b[0m \u001b[0;34m\u001b[0m\u001b[0m\n\u001b[1;32m     11\u001b[0m         \u001b[0;31m# Display logs per epoch step\u001b[0m\u001b[0;34m\u001b[0m\u001b[0;34m\u001b[0m\u001b[0;34m\u001b[0m\u001b[0m\n",
            "\u001b[0;31mNameError\u001b[0m: name 'optimizer' is not defined"
          ]
        }
      ]
    },
    {
      "cell_type": "markdown",
      "metadata": {
        "id": "n0cPFMjRd_iI",
        "colab_type": "text"
      },
      "source": [
        ""
      ]
    }
  ]
}