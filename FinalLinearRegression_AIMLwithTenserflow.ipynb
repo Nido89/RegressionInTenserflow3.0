{
  "nbformat": 4,
  "nbformat_minor": 0,
  "metadata": {
    "colab": {
      "name": "FinalLinearRegression AIMLwithTenserflow.ipynb",
      "provenance": [],
      "collapsed_sections": [],
      "include_colab_link": true
    },
    "kernelspec": {
      "name": "python3",
      "display_name": "Python 3"
    }
  },
  "cells": [
    {
      "cell_type": "markdown",
      "metadata": {
        "id": "view-in-github",
        "colab_type": "text"
      },
      "source": [
        "<a href=\"https://colab.research.google.com/github/Nido89/RegressionInTenserflow3.0/blob/master/FinalLinearRegression_AIMLwithTenserflow.ipynb\" target=\"_parent\"><img src=\"https://colab.research.google.com/assets/colab-badge.svg\" alt=\"Open In Colab\"/></a>"
      ]
    },
    {
      "cell_type": "code",
      "metadata": {
        "id": "q07nR7hVtQgJ",
        "colab_type": "code",
        "outputId": "27c4533f-7830-4dda-bb63-a5877bd65b37",
        "colab": {
          "base_uri": "https://localhost:8080/",
          "height": 309
        }
      },
      "source": [
        "import pandas as pd\n",
        "df1 = pd.read_json(\"https://meri.digitraffic.fi/api/v1/metadata/vessels\")\n",
        "df1.head()"
      ],
      "execution_count": 0,
      "outputs": [
        {
          "output_type": "execute_result",
          "data": {
            "text/html": [
              "<div>\n",
              "<style scoped>\n",
              "    .dataframe tbody tr th:only-of-type {\n",
              "        vertical-align: middle;\n",
              "    }\n",
              "\n",
              "    .dataframe tbody tr th {\n",
              "        vertical-align: top;\n",
              "    }\n",
              "\n",
              "    .dataframe thead th {\n",
              "        text-align: right;\n",
              "    }\n",
              "</style>\n",
              "<table border=\"1\" class=\"dataframe\">\n",
              "  <thead>\n",
              "    <tr style=\"text-align: right;\">\n",
              "      <th></th>\n",
              "      <th>timestamp</th>\n",
              "      <th>destination</th>\n",
              "      <th>mmsi</th>\n",
              "      <th>callSign</th>\n",
              "      <th>imo</th>\n",
              "      <th>shipType</th>\n",
              "      <th>draught</th>\n",
              "      <th>eta</th>\n",
              "      <th>posType</th>\n",
              "      <th>referencePointA</th>\n",
              "      <th>referencePointB</th>\n",
              "      <th>referencePointC</th>\n",
              "      <th>referencePointD</th>\n",
              "      <th>name</th>\n",
              "    </tr>\n",
              "  </thead>\n",
              "  <tbody>\n",
              "    <tr>\n",
              "      <th>0</th>\n",
              "      <td>2019-10-27 11:30:06.994</td>\n",
              "      <td>S,PETERBUG</td>\n",
              "      <td>273383250</td>\n",
              "      <td>UEWW</td>\n",
              "      <td>9751913</td>\n",
              "      <td>80</td>\n",
              "      <td>30</td>\n",
              "      <td>711936</td>\n",
              "      <td>15</td>\n",
              "      <td>119</td>\n",
              "      <td>22</td>\n",
              "      <td>8</td>\n",
              "      <td>9</td>\n",
              "      <td>BALT FLOT 4</td>\n",
              "    </tr>\n",
              "    <tr>\n",
              "      <th>1</th>\n",
              "      <td>2019-08-28 05:18:20.325</td>\n",
              "      <td>ROOMASSAARE  ABRUKA</td>\n",
              "      <td>276808000</td>\n",
              "      <td>ESKA</td>\n",
              "      <td>0</td>\n",
              "      <td>60</td>\n",
              "      <td>0</td>\n",
              "      <td>1596</td>\n",
              "      <td>1</td>\n",
              "      <td>5</td>\n",
              "      <td>10</td>\n",
              "      <td>2</td>\n",
              "      <td>2</td>\n",
              "      <td>ABRO</td>\n",
              "    </tr>\n",
              "    <tr>\n",
              "      <th>2</th>\n",
              "      <td>2018-10-17 22:10:27.596</td>\n",
              "      <td>SPB</td>\n",
              "      <td>273274000</td>\n",
              "      <td>UBCE</td>\n",
              "      <td>0</td>\n",
              "      <td>90</td>\n",
              "      <td>36</td>\n",
              "      <td>691456</td>\n",
              "      <td>15</td>\n",
              "      <td>103</td>\n",
              "      <td>23</td>\n",
              "      <td>6</td>\n",
              "      <td>10</td>\n",
              "      <td>VOLGONEFT-102</td>\n",
              "    </tr>\n",
              "    <tr>\n",
              "      <th>3</th>\n",
              "      <td>2019-10-29 18:10:47.374</td>\n",
              "      <td>RONNSKAR VIA NOK</td>\n",
              "      <td>236644000</td>\n",
              "      <td>ZDNW2</td>\n",
              "      <td>9166467</td>\n",
              "      <td>70</td>\n",
              "      <td>62</td>\n",
              "      <td>719168</td>\n",
              "      <td>1</td>\n",
              "      <td>97</td>\n",
              "      <td>11</td>\n",
              "      <td>8</td>\n",
              "      <td>7</td>\n",
              "      <td>SYLVIA</td>\n",
              "    </tr>\n",
              "    <tr>\n",
              "      <th>4</th>\n",
              "      <td>2018-10-10 18:19:37.007</td>\n",
              "      <td>ICDAS TURKEY</td>\n",
              "      <td>259794000</td>\n",
              "      <td>LALC7</td>\n",
              "      <td>9490856</td>\n",
              "      <td>70</td>\n",
              "      <td>91</td>\n",
              "      <td>707328</td>\n",
              "      <td>1</td>\n",
              "      <td>160</td>\n",
              "      <td>30</td>\n",
              "      <td>20</td>\n",
              "      <td>12</td>\n",
              "      <td>SPAR URSA</td>\n",
              "    </tr>\n",
              "  </tbody>\n",
              "</table>\n",
              "</div>"
            ],
            "text/plain": [
              "                timestamp          destination  ...  referencePointD           name\n",
              "0 2019-10-27 11:30:06.994          S,PETERBUG   ...                9   BALT FLOT 4 \n",
              "1 2019-08-28 05:18:20.325  ROOMASSAARE  ABRUKA  ...                2           ABRO\n",
              "2 2018-10-17 22:10:27.596                  SPB  ...               10  VOLGONEFT-102\n",
              "3 2019-10-29 18:10:47.374     RONNSKAR VIA NOK  ...                7         SYLVIA\n",
              "4 2018-10-10 18:19:37.007         ICDAS TURKEY  ...               12      SPAR URSA\n",
              "\n",
              "[5 rows x 14 columns]"
            ]
          },
          "metadata": {
            "tags": []
          },
          "execution_count": 129
        }
      ]
    },
    {
      "cell_type": "code",
      "metadata": {
        "id": "BaNfFqxZtr9A",
        "colab_type": "code",
        "outputId": "d5725692-7880-489a-c48a-eebff299ec38",
        "colab": {
          "base_uri": "https://localhost:8080/",
          "height": 359
        }
      },
      "source": [
        "import pandas as pd\n",
        "url='https://cdn.fmi.fi/fmiodata-convert-api/output/csv-5e15aa66-504b-46db-9145-1992017e8753.csv'\n",
        "df2 = pd.read_csv(url) \n",
        "df2.head(10)"
      ],
      "execution_count": 0,
      "outputs": [
        {
          "output_type": "execute_result",
          "data": {
            "text/html": [
              "<div>\n",
              "<style scoped>\n",
              "    .dataframe tbody tr th:only-of-type {\n",
              "        vertical-align: middle;\n",
              "    }\n",
              "\n",
              "    .dataframe tbody tr th {\n",
              "        vertical-align: top;\n",
              "    }\n",
              "\n",
              "    .dataframe thead th {\n",
              "        text-align: right;\n",
              "    }\n",
              "</style>\n",
              "<table border=\"1\" class=\"dataframe\">\n",
              "  <thead>\n",
              "    <tr style=\"text-align: right;\">\n",
              "      <th></th>\n",
              "      <th>Year</th>\n",
              "      <th>m</th>\n",
              "      <th>d</th>\n",
              "      <th>Time</th>\n",
              "      <th>Time zone</th>\n",
              "      <th>Horizontal visibility (m)</th>\n",
              "      <th>Wind speed (m/s)</th>\n",
              "    </tr>\n",
              "  </thead>\n",
              "  <tbody>\n",
              "    <tr>\n",
              "      <th>0</th>\n",
              "      <td>2019</td>\n",
              "      <td>10</td>\n",
              "      <td>28</td>\n",
              "      <td>00:00</td>\n",
              "      <td>UTC</td>\n",
              "      <td>21970</td>\n",
              "      <td>0.0</td>\n",
              "    </tr>\n",
              "    <tr>\n",
              "      <th>1</th>\n",
              "      <td>2019</td>\n",
              "      <td>10</td>\n",
              "      <td>28</td>\n",
              "      <td>01:00</td>\n",
              "      <td>UTC</td>\n",
              "      <td>21230</td>\n",
              "      <td>0.0</td>\n",
              "    </tr>\n",
              "    <tr>\n",
              "      <th>2</th>\n",
              "      <td>2019</td>\n",
              "      <td>10</td>\n",
              "      <td>28</td>\n",
              "      <td>02:00</td>\n",
              "      <td>UTC</td>\n",
              "      <td>30740</td>\n",
              "      <td>0.0</td>\n",
              "    </tr>\n",
              "    <tr>\n",
              "      <th>3</th>\n",
              "      <td>2019</td>\n",
              "      <td>10</td>\n",
              "      <td>28</td>\n",
              "      <td>03:00</td>\n",
              "      <td>UTC</td>\n",
              "      <td>10980</td>\n",
              "      <td>0.0</td>\n",
              "    </tr>\n",
              "    <tr>\n",
              "      <th>4</th>\n",
              "      <td>2019</td>\n",
              "      <td>10</td>\n",
              "      <td>28</td>\n",
              "      <td>04:00</td>\n",
              "      <td>UTC</td>\n",
              "      <td>5000</td>\n",
              "      <td>0.0</td>\n",
              "    </tr>\n",
              "    <tr>\n",
              "      <th>5</th>\n",
              "      <td>2019</td>\n",
              "      <td>10</td>\n",
              "      <td>28</td>\n",
              "      <td>05:00</td>\n",
              "      <td>UTC</td>\n",
              "      <td>8140</td>\n",
              "      <td>2.1</td>\n",
              "    </tr>\n",
              "    <tr>\n",
              "      <th>6</th>\n",
              "      <td>2019</td>\n",
              "      <td>10</td>\n",
              "      <td>28</td>\n",
              "      <td>06:00</td>\n",
              "      <td>UTC</td>\n",
              "      <td>9490</td>\n",
              "      <td>1.8</td>\n",
              "    </tr>\n",
              "    <tr>\n",
              "      <th>7</th>\n",
              "      <td>2019</td>\n",
              "      <td>10</td>\n",
              "      <td>28</td>\n",
              "      <td>07:00</td>\n",
              "      <td>UTC</td>\n",
              "      <td>14530</td>\n",
              "      <td>0.0</td>\n",
              "    </tr>\n",
              "    <tr>\n",
              "      <th>8</th>\n",
              "      <td>2019</td>\n",
              "      <td>10</td>\n",
              "      <td>28</td>\n",
              "      <td>08:00</td>\n",
              "      <td>UTC</td>\n",
              "      <td>7990</td>\n",
              "      <td>0.9</td>\n",
              "    </tr>\n",
              "    <tr>\n",
              "      <th>9</th>\n",
              "      <td>2019</td>\n",
              "      <td>10</td>\n",
              "      <td>28</td>\n",
              "      <td>09:00</td>\n",
              "      <td>UTC</td>\n",
              "      <td>21530</td>\n",
              "      <td>0.0</td>\n",
              "    </tr>\n",
              "  </tbody>\n",
              "</table>\n",
              "</div>"
            ],
            "text/plain": [
              "   Year   m   d   Time Time zone  Horizontal visibility (m)  Wind speed (m/s)\n",
              "0  2019  10  28  00:00       UTC                      21970               0.0\n",
              "1  2019  10  28  01:00       UTC                      21230               0.0\n",
              "2  2019  10  28  02:00       UTC                      30740               0.0\n",
              "3  2019  10  28  03:00       UTC                      10980               0.0\n",
              "4  2019  10  28  04:00       UTC                       5000               0.0\n",
              "5  2019  10  28  05:00       UTC                       8140               2.1\n",
              "6  2019  10  28  06:00       UTC                       9490               1.8\n",
              "7  2019  10  28  07:00       UTC                      14530               0.0\n",
              "8  2019  10  28  08:00       UTC                       7990               0.9\n",
              "9  2019  10  28  09:00       UTC                      21530               0.0"
            ]
          },
          "metadata": {
            "tags": []
          },
          "execution_count": 130
        }
      ]
    },
    {
      "cell_type": "code",
      "metadata": {
        "id": "w38oB5pZvKyo",
        "colab_type": "code",
        "outputId": "f8dd27ee-27c6-492f-e5e7-c241ce9868ae",
        "colab": {
          "base_uri": "https://localhost:8080/",
          "height": 439
        }
      },
      "source": [
        "df3=df_index = pd.merge(df1, df2, right_index=True, left_index=True)\n",
        "\n",
        "df3.head(7)\n"
      ],
      "execution_count": 0,
      "outputs": [
        {
          "output_type": "execute_result",
          "data": {
            "text/html": [
              "<div>\n",
              "<style scoped>\n",
              "    .dataframe tbody tr th:only-of-type {\n",
              "        vertical-align: middle;\n",
              "    }\n",
              "\n",
              "    .dataframe tbody tr th {\n",
              "        vertical-align: top;\n",
              "    }\n",
              "\n",
              "    .dataframe thead th {\n",
              "        text-align: right;\n",
              "    }\n",
              "</style>\n",
              "<table border=\"1\" class=\"dataframe\">\n",
              "  <thead>\n",
              "    <tr style=\"text-align: right;\">\n",
              "      <th></th>\n",
              "      <th>timestamp</th>\n",
              "      <th>destination</th>\n",
              "      <th>mmsi</th>\n",
              "      <th>callSign</th>\n",
              "      <th>imo</th>\n",
              "      <th>shipType</th>\n",
              "      <th>draught</th>\n",
              "      <th>eta</th>\n",
              "      <th>posType</th>\n",
              "      <th>referencePointA</th>\n",
              "      <th>referencePointB</th>\n",
              "      <th>referencePointC</th>\n",
              "      <th>referencePointD</th>\n",
              "      <th>name</th>\n",
              "      <th>Year</th>\n",
              "      <th>m</th>\n",
              "      <th>d</th>\n",
              "      <th>Time</th>\n",
              "      <th>Time zone</th>\n",
              "      <th>Horizontal visibility (m)</th>\n",
              "      <th>Wind speed (m/s)</th>\n",
              "    </tr>\n",
              "  </thead>\n",
              "  <tbody>\n",
              "    <tr>\n",
              "      <th>0</th>\n",
              "      <td>2019-10-27 11:30:06.994</td>\n",
              "      <td>S,PETERBUG</td>\n",
              "      <td>273383250</td>\n",
              "      <td>UEWW</td>\n",
              "      <td>9751913</td>\n",
              "      <td>80</td>\n",
              "      <td>30</td>\n",
              "      <td>711936</td>\n",
              "      <td>15</td>\n",
              "      <td>119</td>\n",
              "      <td>22</td>\n",
              "      <td>8</td>\n",
              "      <td>9</td>\n",
              "      <td>BALT FLOT 4</td>\n",
              "      <td>2019</td>\n",
              "      <td>10</td>\n",
              "      <td>28</td>\n",
              "      <td>00:00</td>\n",
              "      <td>UTC</td>\n",
              "      <td>21970</td>\n",
              "      <td>0.0</td>\n",
              "    </tr>\n",
              "    <tr>\n",
              "      <th>1</th>\n",
              "      <td>2019-08-28 05:18:20.325</td>\n",
              "      <td>ROOMASSAARE  ABRUKA</td>\n",
              "      <td>276808000</td>\n",
              "      <td>ESKA</td>\n",
              "      <td>0</td>\n",
              "      <td>60</td>\n",
              "      <td>0</td>\n",
              "      <td>1596</td>\n",
              "      <td>1</td>\n",
              "      <td>5</td>\n",
              "      <td>10</td>\n",
              "      <td>2</td>\n",
              "      <td>2</td>\n",
              "      <td>ABRO</td>\n",
              "      <td>2019</td>\n",
              "      <td>10</td>\n",
              "      <td>28</td>\n",
              "      <td>01:00</td>\n",
              "      <td>UTC</td>\n",
              "      <td>21230</td>\n",
              "      <td>0.0</td>\n",
              "    </tr>\n",
              "    <tr>\n",
              "      <th>2</th>\n",
              "      <td>2018-10-17 22:10:27.596</td>\n",
              "      <td>SPB</td>\n",
              "      <td>273274000</td>\n",
              "      <td>UBCE</td>\n",
              "      <td>0</td>\n",
              "      <td>90</td>\n",
              "      <td>36</td>\n",
              "      <td>691456</td>\n",
              "      <td>15</td>\n",
              "      <td>103</td>\n",
              "      <td>23</td>\n",
              "      <td>6</td>\n",
              "      <td>10</td>\n",
              "      <td>VOLGONEFT-102</td>\n",
              "      <td>2019</td>\n",
              "      <td>10</td>\n",
              "      <td>28</td>\n",
              "      <td>02:00</td>\n",
              "      <td>UTC</td>\n",
              "      <td>30740</td>\n",
              "      <td>0.0</td>\n",
              "    </tr>\n",
              "    <tr>\n",
              "      <th>3</th>\n",
              "      <td>2019-10-29 18:10:47.374</td>\n",
              "      <td>RONNSKAR VIA NOK</td>\n",
              "      <td>236644000</td>\n",
              "      <td>ZDNW2</td>\n",
              "      <td>9166467</td>\n",
              "      <td>70</td>\n",
              "      <td>62</td>\n",
              "      <td>719168</td>\n",
              "      <td>1</td>\n",
              "      <td>97</td>\n",
              "      <td>11</td>\n",
              "      <td>8</td>\n",
              "      <td>7</td>\n",
              "      <td>SYLVIA</td>\n",
              "      <td>2019</td>\n",
              "      <td>10</td>\n",
              "      <td>28</td>\n",
              "      <td>03:00</td>\n",
              "      <td>UTC</td>\n",
              "      <td>10980</td>\n",
              "      <td>0.0</td>\n",
              "    </tr>\n",
              "    <tr>\n",
              "      <th>4</th>\n",
              "      <td>2018-10-10 18:19:37.007</td>\n",
              "      <td>ICDAS TURKEY</td>\n",
              "      <td>259794000</td>\n",
              "      <td>LALC7</td>\n",
              "      <td>9490856</td>\n",
              "      <td>70</td>\n",
              "      <td>91</td>\n",
              "      <td>707328</td>\n",
              "      <td>1</td>\n",
              "      <td>160</td>\n",
              "      <td>30</td>\n",
              "      <td>20</td>\n",
              "      <td>12</td>\n",
              "      <td>SPAR URSA</td>\n",
              "      <td>2019</td>\n",
              "      <td>10</td>\n",
              "      <td>28</td>\n",
              "      <td>04:00</td>\n",
              "      <td>UTC</td>\n",
              "      <td>5000</td>\n",
              "      <td>0.0</td>\n",
              "    </tr>\n",
              "    <tr>\n",
              "      <th>5</th>\n",
              "      <td>2019-09-17 23:39:06.515</td>\n",
              "      <td>STETTIN</td>\n",
              "      <td>304559000</td>\n",
              "      <td>V2OK3</td>\n",
              "      <td>8205187</td>\n",
              "      <td>70</td>\n",
              "      <td>23</td>\n",
              "      <td>630144</td>\n",
              "      <td>1</td>\n",
              "      <td>60</td>\n",
              "      <td>14</td>\n",
              "      <td>3</td>\n",
              "      <td>9</td>\n",
              "      <td>LISA D</td>\n",
              "      <td>2019</td>\n",
              "      <td>10</td>\n",
              "      <td>28</td>\n",
              "      <td>05:00</td>\n",
              "      <td>UTC</td>\n",
              "      <td>8140</td>\n",
              "      <td>2.1</td>\n",
              "    </tr>\n",
              "    <tr>\n",
              "      <th>6</th>\n",
              "      <td>2019-09-12 14:24:30.748</td>\n",
              "      <td>US NYC</td>\n",
              "      <td>538004992</td>\n",
              "      <td>V7AG7</td>\n",
              "      <td>9661235</td>\n",
              "      <td>80</td>\n",
              "      <td>114</td>\n",
              "      <td>650432</td>\n",
              "      <td>1</td>\n",
              "      <td>149</td>\n",
              "      <td>34</td>\n",
              "      <td>20</td>\n",
              "      <td>12</td>\n",
              "      <td>MARJORIE K</td>\n",
              "      <td>2019</td>\n",
              "      <td>10</td>\n",
              "      <td>28</td>\n",
              "      <td>06:00</td>\n",
              "      <td>UTC</td>\n",
              "      <td>9490</td>\n",
              "      <td>1.8</td>\n",
              "    </tr>\n",
              "  </tbody>\n",
              "</table>\n",
              "</div>"
            ],
            "text/plain": [
              "                timestamp  ... Wind speed (m/s)\n",
              "0 2019-10-27 11:30:06.994  ...              0.0\n",
              "1 2019-08-28 05:18:20.325  ...              0.0\n",
              "2 2018-10-17 22:10:27.596  ...              0.0\n",
              "3 2019-10-29 18:10:47.374  ...              0.0\n",
              "4 2018-10-10 18:19:37.007  ...              0.0\n",
              "5 2019-09-17 23:39:06.515  ...              2.1\n",
              "6 2019-09-12 14:24:30.748  ...              1.8\n",
              "\n",
              "[7 rows x 21 columns]"
            ]
          },
          "metadata": {
            "tags": []
          },
          "execution_count": 131
        }
      ]
    },
    {
      "cell_type": "code",
      "metadata": {
        "id": "iTbMwK7bvSCW",
        "colab_type": "code",
        "outputId": "9e1180f5-2f0a-4ddd-8dc1-986a3beb2622",
        "colab": {
          "base_uri": "https://localhost:8080/",
          "height": 204
        }
      },
      "source": [
        "df4 = df3[\"eta\"]\n",
        "  \n",
        "df4.head(10)"
      ],
      "execution_count": 0,
      "outputs": [
        {
          "output_type": "execute_result",
          "data": {
            "text/plain": [
              "0    711936\n",
              "1      1596\n",
              "2    691456\n",
              "3    719168\n",
              "4    707328\n",
              "5    630144\n",
              "6    650432\n",
              "7    803584\n",
              "8      1596\n",
              "9    678208\n",
              "Name: eta, dtype: int64"
            ]
          },
          "metadata": {
            "tags": []
          },
          "execution_count": 132
        }
      ]
    },
    {
      "cell_type": "code",
      "metadata": {
        "id": "iabgsxgBvTHe",
        "colab_type": "code",
        "outputId": "5ed18d9d-b22d-4d9f-b767-08b92c4f4d53",
        "colab": {
          "base_uri": "https://localhost:8080/",
          "height": 204
        }
      },
      "source": [
        "df5 = df2[\"Horizontal visibility (m)\"]\n",
        "df5.head(10)"
      ],
      "execution_count": 0,
      "outputs": [
        {
          "output_type": "execute_result",
          "data": {
            "text/plain": [
              "0    21970\n",
              "1    21230\n",
              "2    30740\n",
              "3    10980\n",
              "4     5000\n",
              "5     8140\n",
              "6     9490\n",
              "7    14530\n",
              "8     7990\n",
              "9    21530\n",
              "Name: Horizontal visibility (m), dtype: int64"
            ]
          },
          "metadata": {
            "tags": []
          },
          "execution_count": 133
        }
      ]
    },
    {
      "cell_type": "code",
      "metadata": {
        "id": "I9TC0HamvVau",
        "colab_type": "code",
        "outputId": "4a3ee59a-5c7b-4a8d-8f60-920a0c91b5bb",
        "colab": {
          "base_uri": "https://localhost:8080/",
          "height": 204
        }
      },
      "source": [
        "df6= df2[\"Wind speed (m/s)\"]\n",
        "df6.head(10)"
      ],
      "execution_count": 0,
      "outputs": [
        {
          "output_type": "execute_result",
          "data": {
            "text/plain": [
              "0    0.0\n",
              "1    0.0\n",
              "2    0.0\n",
              "3    0.0\n",
              "4    0.0\n",
              "5    2.1\n",
              "6    1.8\n",
              "7    0.0\n",
              "8    0.9\n",
              "9    0.0\n",
              "Name: Wind speed (m/s), dtype: float64"
            ]
          },
          "metadata": {
            "tags": []
          },
          "execution_count": 134
        }
      ]
    },
    {
      "cell_type": "code",
      "metadata": {
        "id": "1QewaOuBvagW",
        "colab_type": "code",
        "outputId": "4f253b93-1b0d-41b2-c155-f500ca6f035f",
        "colab": {
          "base_uri": "https://localhost:8080/",
          "height": 266
        }
      },
      "source": [
        "#Horizontal Visibility plus eta\n",
        "df7= pd.merge(df4, df5, right_index=True, left_index=True)\n",
        "df7.head(7)\n"
      ],
      "execution_count": 0,
      "outputs": [
        {
          "output_type": "execute_result",
          "data": {
            "text/html": [
              "<div>\n",
              "<style scoped>\n",
              "    .dataframe tbody tr th:only-of-type {\n",
              "        vertical-align: middle;\n",
              "    }\n",
              "\n",
              "    .dataframe tbody tr th {\n",
              "        vertical-align: top;\n",
              "    }\n",
              "\n",
              "    .dataframe thead th {\n",
              "        text-align: right;\n",
              "    }\n",
              "</style>\n",
              "<table border=\"1\" class=\"dataframe\">\n",
              "  <thead>\n",
              "    <tr style=\"text-align: right;\">\n",
              "      <th></th>\n",
              "      <th>eta</th>\n",
              "      <th>Horizontal visibility (m)</th>\n",
              "    </tr>\n",
              "  </thead>\n",
              "  <tbody>\n",
              "    <tr>\n",
              "      <th>0</th>\n",
              "      <td>711936</td>\n",
              "      <td>21970</td>\n",
              "    </tr>\n",
              "    <tr>\n",
              "      <th>1</th>\n",
              "      <td>1596</td>\n",
              "      <td>21230</td>\n",
              "    </tr>\n",
              "    <tr>\n",
              "      <th>2</th>\n",
              "      <td>691456</td>\n",
              "      <td>30740</td>\n",
              "    </tr>\n",
              "    <tr>\n",
              "      <th>3</th>\n",
              "      <td>719168</td>\n",
              "      <td>10980</td>\n",
              "    </tr>\n",
              "    <tr>\n",
              "      <th>4</th>\n",
              "      <td>707328</td>\n",
              "      <td>5000</td>\n",
              "    </tr>\n",
              "    <tr>\n",
              "      <th>5</th>\n",
              "      <td>630144</td>\n",
              "      <td>8140</td>\n",
              "    </tr>\n",
              "    <tr>\n",
              "      <th>6</th>\n",
              "      <td>650432</td>\n",
              "      <td>9490</td>\n",
              "    </tr>\n",
              "  </tbody>\n",
              "</table>\n",
              "</div>"
            ],
            "text/plain": [
              "      eta  Horizontal visibility (m)\n",
              "0  711936                      21970\n",
              "1    1596                      21230\n",
              "2  691456                      30740\n",
              "3  719168                      10980\n",
              "4  707328                       5000\n",
              "5  630144                       8140\n",
              "6  650432                       9490"
            ]
          },
          "metadata": {
            "tags": []
          },
          "execution_count": 135
        }
      ]
    },
    {
      "cell_type": "code",
      "metadata": {
        "id": "GuPz8YaDvdGF",
        "colab_type": "code",
        "outputId": "ca2f96e4-35ae-4e39-d75d-0916a32dcbc4",
        "colab": {
          "base_uri": "https://localhost:8080/",
          "height": 266
        }
      },
      "source": [
        "#eta plus WindSpeed\n",
        "df8= pd.merge(df4, df6, right_index=True, left_index=True)\n",
        "df8.tail(7)"
      ],
      "execution_count": 0,
      "outputs": [
        {
          "output_type": "execute_result",
          "data": {
            "text/html": [
              "<div>\n",
              "<style scoped>\n",
              "    .dataframe tbody tr th:only-of-type {\n",
              "        vertical-align: middle;\n",
              "    }\n",
              "\n",
              "    .dataframe tbody tr th {\n",
              "        vertical-align: top;\n",
              "    }\n",
              "\n",
              "    .dataframe thead th {\n",
              "        text-align: right;\n",
              "    }\n",
              "</style>\n",
              "<table border=\"1\" class=\"dataframe\">\n",
              "  <thead>\n",
              "    <tr style=\"text-align: right;\">\n",
              "      <th></th>\n",
              "      <th>eta</th>\n",
              "      <th>Wind speed (m/s)</th>\n",
              "    </tr>\n",
              "  </thead>\n",
              "  <tbody>\n",
              "    <tr>\n",
              "      <th>18</th>\n",
              "      <td>774144</td>\n",
              "      <td>0.0</td>\n",
              "    </tr>\n",
              "    <tr>\n",
              "      <th>19</th>\n",
              "      <td>771456</td>\n",
              "      <td>0.0</td>\n",
              "    </tr>\n",
              "    <tr>\n",
              "      <th>20</th>\n",
              "      <td>612736</td>\n",
              "      <td>0.0</td>\n",
              "    </tr>\n",
              "    <tr>\n",
              "      <th>21</th>\n",
              "      <td>639488</td>\n",
              "      <td>0.0</td>\n",
              "    </tr>\n",
              "    <tr>\n",
              "      <th>22</th>\n",
              "      <td>74994</td>\n",
              "      <td>0.0</td>\n",
              "    </tr>\n",
              "    <tr>\n",
              "      <th>23</th>\n",
              "      <td>712705</td>\n",
              "      <td>0.0</td>\n",
              "    </tr>\n",
              "    <tr>\n",
              "      <th>24</th>\n",
              "      <td>700800</td>\n",
              "      <td>0.0</td>\n",
              "    </tr>\n",
              "  </tbody>\n",
              "</table>\n",
              "</div>"
            ],
            "text/plain": [
              "       eta  Wind speed (m/s)\n",
              "18  774144               0.0\n",
              "19  771456               0.0\n",
              "20  612736               0.0\n",
              "21  639488               0.0\n",
              "22   74994               0.0\n",
              "23  712705               0.0\n",
              "24  700800               0.0"
            ]
          },
          "metadata": {
            "tags": []
          },
          "execution_count": 136
        }
      ]
    },
    {
      "cell_type": "code",
      "metadata": {
        "id": "WkPH9JnSI3Wy",
        "colab_type": "code",
        "colab": {}
      },
      "source": [
        "#Define your useful columns of data\n",
        "#column1=df7['eta'].values\n",
        "#column2=df7['Horizontal visibility (m)'].values"
      ],
      "execution_count": 0,
      "outputs": []
    },
    {
      "cell_type": "code",
      "metadata": {
        "id": "Wx1dflawYtzA",
        "colab_type": "code",
        "colab": {}
      },
      "source": [
        "import numpy as np \n",
        "import tensorflow as tf \n",
        "import matplotlib.pyplot as plt \n",
        "\n"
      ],
      "execution_count": 0,
      "outputs": []
    },
    {
      "cell_type": "code",
      "metadata": {
        "id": "C2n3O9qxbLqX",
        "colab_type": "code",
        "colab": {}
      },
      "source": [
        "#np.random.seed(101) \n",
        "#tf.set_random_seed(101) \n"
      ],
      "execution_count": 0,
      "outputs": []
    },
    {
      "cell_type": "code",
      "metadata": {
        "id": "YmSbdX0rY1kH",
        "colab_type": "code",
        "colab": {}
      },
      "source": [
        "# Genrating random linear data \n",
        " \n",
        "x = df7['eta'].values \n",
        "y = df7['Horizontal visibility (m)'].values\n",
        "\n",
        "# Adding noise to the random linear data \n",
        "#x += np.random.uniform(-0, df7['eta'].values , 50) \n",
        "#y += np.random.uniform(-0,df7['Horizontal visibility (m)'].values, 50) \n",
        "\n",
        "\n"
      ],
      "execution_count": 0,
      "outputs": []
    },
    {
      "cell_type": "code",
      "metadata": {
        "id": "xTQ1vLQ5lF6A",
        "colab_type": "code",
        "outputId": "4e74f23f-18bd-4c49-9197-fd15b5966fe8",
        "colab": {
          "base_uri": "https://localhost:8080/",
          "height": 34
        }
      },
      "source": [
        "n = len(x) # Number of data points \n",
        "n"
      ],
      "execution_count": 0,
      "outputs": [
        {
          "output_type": "execute_result",
          "data": {
            "text/plain": [
              "25"
            ]
          },
          "metadata": {
            "tags": []
          },
          "execution_count": 177
        }
      ]
    },
    {
      "cell_type": "code",
      "metadata": {
        "id": "W9J5m8lebSi-",
        "colab_type": "code",
        "outputId": "c767242e-6e67-4549-8072-68e904e92709",
        "colab": {
          "base_uri": "https://localhost:8080/",
          "height": 295
        }
      },
      "source": [
        "# Plot of Training Data \n",
        "plt.scatter(x, y) \n",
        "plt.xlabel('x') \n",
        "plt.xlabel('y') \n",
        "plt.title(\"Training Data\") \n",
        "plt.show() \n"
      ],
      "execution_count": 0,
      "outputs": [
        {
          "output_type": "display_data",
          "data": {
            "image/png": "[encoded data removed]",
            "text/plain": [
              "<Figure size 432x288 with 1 Axes>"
            ]
          },
          "metadata": {
            "tags": []
          }
        }
      ]
    },
    {
      "cell_type": "code",
      "metadata": {
        "id": "tcVRtcBscHBn",
        "colab_type": "code",
        "colab": {}
      },
      "source": [
        "X = tf.placeholder(\"float\") \n",
        "Y = tf.placeholder(\"float\") \n"
      ],
      "execution_count": 0,
      "outputs": []
    },
    {
      "cell_type": "code",
      "metadata": {
        "id": "4REu4HLRcUvF",
        "colab_type": "code",
        "colab": {}
      },
      "source": [
        "W = tf.Variable(np.random.randn(), name = \"W\") \n",
        "b = tf.Variable(np.random.randn(), name = \"b\") \n"
      ],
      "execution_count": 0,
      "outputs": []
    },
    {
      "cell_type": "code",
      "metadata": {
        "id": "hvwWUYu0cJMO",
        "colab_type": "code",
        "colab": {}
      },
      "source": [
        "learning_rate =0.01\n",
        "training_epochs = 500\n"
      ],
      "execution_count": 0,
      "outputs": []
    },
    {
      "cell_type": "code",
      "metadata": {
        "id": "oi_UxLpMcLSe",
        "colab_type": "code",
        "colab": {}
      },
      "source": [
        "# Hypothesis \n",
        "y_pred = tf.add(tf.multiply(X, W), b) \n",
        "\n",
        "# Mean Squared Error Cost Function \n",
        "cost = tf.reduce_sum(tf.pow(y_pred-Y, 2)) / (2 * n) \n",
        "\n",
        "# Gradient Descent Optimizer \n",
        "optimizer = tf.train.AdamOptimizer().minimize(cost)\n",
        "\n",
        "# Global Variables Initializer \n",
        "init = tf.global_variables_initializer() \n"
      ],
      "execution_count": 0,
      "outputs": []
    },
    {
      "cell_type": "code",
      "metadata": {
        "id": "htzc__XwcZEt",
        "colab_type": "code",
        "outputId": "798a2402-88a7-4697-e0a2-3d2050a41815",
        "colab": {
          "base_uri": "https://localhost:8080/",
          "height": 187
        }
      },
      "source": [
        "# Starting the Tensorflow Session \n",
        "with tf.Session() as sess: \n",
        "\t\n",
        "\t# Initializing the Variables \n",
        "\tsess.run(init) \n",
        "\t\n",
        "\t# Iterating through all the epochs \n",
        "\tfor epoch in range(training_epochs): \n",
        "\t\t\n",
        "\t\t# Feeding each data point into the optimizer using Feed Dictionary \n",
        "\t\tfor (_x, _y) in zip(x, y): \n",
        "\t\t\tsess.run(optimizer, feed_dict = {X : _x, Y : _y}) \n",
        "\t\t\n",
        "\t\t# Displaying the result after every 50 epochs \n",
        "\t\tif (epoch + 1) % 50 == 0: \n",
        "\t\t\t# Calculating the cost a every epoch \n",
        "\t\t\tc = sess.run(cost, feed_dict = {X : x, Y : y}) \n",
        "\t\t\tprint(\"Epoch\", (epoch + 1), \": cost(Loss) =\", c, \"W =\", sess.run(W), \"b =\", sess.run(b)) \n",
        "\t\n",
        "\t# Storing necessary values to be used outside the Session \n",
        "\ttraining_cost = sess.run(cost, feed_dict ={X: x, Y: y}) \n",
        "\tweight = sess.run(W) \n",
        "\tbias = sess.run(b) \n"
      ],
      "execution_count": 0,
      "outputs": [
        {
          "output_type": "stream",
          "text": [
            "Epoch 50 : cost(Loss) = 357067230.0 W = 0.06329858 b = -0.90650666\n",
            "Epoch 100 : cost(Loss) = 155462220.0 W = 0.029891955 b = -0.8753863\n",
            "Epoch 150 : cost(Loss) = 155467380.0 W = 0.029972395 b = -0.7502577\n",
            "Epoch 200 : cost(Loss) = 155487410.0 W = 0.030150184 b = -0.54311055\n",
            "Epoch 250 : cost(Loss) = 155525230.0 W = 0.030359047 b = -0.25482234\n",
            "Epoch 300 : cost(Loss) = 155560620.0 W = 0.03050617 b = 0.082817875\n",
            "Epoch 350 : cost(Loss) = 155577020.0 W = 0.030568732 b = 0.4400001\n",
            "Epoch 400 : cost(Loss) = 155581300.0 W = 0.030588467 b = 0.8032492\n",
            "Epoch 450 : cost(Loss) = 155581220.0 W = 0.03059377 b = 1.1682059\n",
            "Epoch 500 : cost(Loss) = 155579820.0 W = 0.030594852 b = 1.5336323\n"
          ],
          "name": "stdout"
        }
      ]
    },
    {
      "cell_type": "code",
      "metadata": {
        "id": "K9oNPDUfuMDW",
        "colab_type": "code",
        "outputId": "14d1eb9c-a0ce-4602-847d-c6001c63b816",
        "colab": {
          "base_uri": "https://localhost:8080/",
          "height": 51
        }
      },
      "source": [
        "# Calculating the predictions \n",
        "predictions = weight * x + bias \n",
        "print(\"Training cost(Loss in Accuracy) =\", training_cost, \"Weight =\", weight, \"bias =\", bias, '\\n') \n"
      ],
      "execution_count": 0,
      "outputs": [
        {
          "output_type": "stream",
          "text": [
            "Training cost(Loss in Accuracy) = 155579820.0 Weight = 0.030594852 bias = 1.5336323 \n",
            "\n"
          ],
          "name": "stdout"
        }
      ]
    },
    {
      "cell_type": "code",
      "metadata": {
        "id": "1Sfb8JGquOXD",
        "colab_type": "code",
        "outputId": "0b84f30f-7e88-4cf1-a38e-19e9c28d8e43",
        "colab": {
          "base_uri": "https://localhost:8080/",
          "height": 281
        }
      },
      "source": [
        "# Plotting the Results \n",
        "plt.plot(x, y, 'ro', label ='Original data') \n",
        "plt.plot(x, predictions, label ='Fitted line') \n",
        "plt.title('Linear Regression Result ETA(x-axis)vs WindSpeed(y-axis)') \n",
        "plt.legend() \n",
        "plt.show() \n"
      ],
      "execution_count": 0,
      "outputs": [
        {
          "output_type": "display_data",
          "data": {
            "image/png": "[encoded data removed]",
            "text/plain": [
              "<Figure size 432x288 with 1 Axes>"
            ]
          },
          "metadata": {
            "tags": []
          }
        }
      ]
    },
    {
      "cell_type": "markdown",
      "metadata": {
        "id": "n0cPFMjRd_iI",
        "colab_type": "text"
      },
      "source": [
        ""
      ]
    }
  ]
}