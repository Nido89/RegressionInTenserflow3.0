{
  "nbformat": 4,
  "nbformat_minor": 0,
  "metadata": {
    "colab": {
      "name": "Copy of Copy of AIMLwithTenserflow.ipynb",
      "provenance": [],
      "collapsed_sections": [],
      "include_colab_link": true
    },
    "kernelspec": {
      "name": "python3",
      "display_name": "Python 3"
    },
    "accelerator": "GPU"
  },
  "cells": [
    {
      "cell_type": "markdown",
      "metadata": {
        "id": "view-in-github",
        "colab_type": "text"
      },
      "source": [
        "<a href=\"https://colab.research.google.com/github/Nido89/RegressionInTenserflow3.0/blob/master/Copy_of_Copy_of_AIMLwithTenserflow.ipynb\" target=\"_parent\"><img src=\"https://colab.research.google.com/assets/colab-badge.svg\" alt=\"Open In Colab\"/></a>"
      ]
    },
    {
      "cell_type": "code",
      "metadata": {
        "id": "q07nR7hVtQgJ",
        "colab_type": "code",
        "outputId": "4e777404-de39-4699-e288-672b19a514c6",
        "colab": {
          "base_uri": "https://localhost:8080/",
          "height": 309
        }
      },
      "source": [
        "import pandas as pd\n",
        "df1 = pd.read_json(\"https://meri.digitraffic.fi/api/v1/metadata/vessels\")\n",
        "df1.head()"
      ],
      "execution_count": 0,
      "outputs": [
        {
          "output_type": "execute_result",
          "data": {
            "text/html": [
              "<div>\n",
              "<style scoped>\n",
              "    .dataframe tbody tr th:only-of-type {\n",
              "        vertical-align: middle;\n",
              "    }\n",
              "\n",
              "    .dataframe tbody tr th {\n",
              "        vertical-align: top;\n",
              "    }\n",
              "\n",
              "    .dataframe thead th {\n",
              "        text-align: right;\n",
              "    }\n",
              "</style>\n",
              "<table border=\"1\" class=\"dataframe\">\n",
              "  <thead>\n",
              "    <tr style=\"text-align: right;\">\n",
              "      <th></th>\n",
              "      <th>timestamp</th>\n",
              "      <th>destination</th>\n",
              "      <th>name</th>\n",
              "      <th>mmsi</th>\n",
              "      <th>callSign</th>\n",
              "      <th>imo</th>\n",
              "      <th>shipType</th>\n",
              "      <th>draught</th>\n",
              "      <th>eta</th>\n",
              "      <th>posType</th>\n",
              "      <th>referencePointA</th>\n",
              "      <th>referencePointB</th>\n",
              "      <th>referencePointC</th>\n",
              "      <th>referencePointD</th>\n",
              "    </tr>\n",
              "  </thead>\n",
              "  <tbody>\n",
              "    <tr>\n",
              "      <th>0</th>\n",
              "      <td>2019-10-27 11:30:06.994</td>\n",
              "      <td>S,PETERBUG</td>\n",
              "      <td>BALT FLOT 4</td>\n",
              "      <td>273383250</td>\n",
              "      <td>UEWW</td>\n",
              "      <td>9751913</td>\n",
              "      <td>80</td>\n",
              "      <td>30</td>\n",
              "      <td>711936</td>\n",
              "      <td>15</td>\n",
              "      <td>119</td>\n",
              "      <td>22</td>\n",
              "      <td>8</td>\n",
              "      <td>9</td>\n",
              "    </tr>\n",
              "    <tr>\n",
              "      <th>1</th>\n",
              "      <td>2019-08-28 05:18:20.325</td>\n",
              "      <td>ROOMASSAARE  ABRUKA</td>\n",
              "      <td>ABRO</td>\n",
              "      <td>276808000</td>\n",
              "      <td>ESKA</td>\n",
              "      <td>0</td>\n",
              "      <td>60</td>\n",
              "      <td>0</td>\n",
              "      <td>1596</td>\n",
              "      <td>1</td>\n",
              "      <td>5</td>\n",
              "      <td>10</td>\n",
              "      <td>2</td>\n",
              "      <td>2</td>\n",
              "    </tr>\n",
              "    <tr>\n",
              "      <th>2</th>\n",
              "      <td>2018-10-17 22:10:27.596</td>\n",
              "      <td>SPB</td>\n",
              "      <td>VOLGONEFT-102</td>\n",
              "      <td>273274000</td>\n",
              "      <td>UBCE</td>\n",
              "      <td>0</td>\n",
              "      <td>90</td>\n",
              "      <td>36</td>\n",
              "      <td>691456</td>\n",
              "      <td>15</td>\n",
              "      <td>103</td>\n",
              "      <td>23</td>\n",
              "      <td>6</td>\n",
              "      <td>10</td>\n",
              "    </tr>\n",
              "    <tr>\n",
              "      <th>3</th>\n",
              "      <td>2019-10-28 12:38:39.350</td>\n",
              "      <td>ROHUNEEME</td>\n",
              "      <td>AHTO-26</td>\n",
              "      <td>276702000</td>\n",
              "      <td>ES2693</td>\n",
              "      <td>0</td>\n",
              "      <td>50</td>\n",
              "      <td>15</td>\n",
              "      <td>645760</td>\n",
              "      <td>1</td>\n",
              "      <td>15</td>\n",
              "      <td>4</td>\n",
              "      <td>3</td>\n",
              "      <td>1</td>\n",
              "    </tr>\n",
              "    <tr>\n",
              "      <th>4</th>\n",
              "      <td>2019-10-28 12:36:35.452</td>\n",
              "      <td>VARKAUS</td>\n",
              "      <td>MURILLO</td>\n",
              "      <td>230133370</td>\n",
              "      <td>OG8621</td>\n",
              "      <td>0</td>\n",
              "      <td>52</td>\n",
              "      <td>17</td>\n",
              "      <td>674944</td>\n",
              "      <td>15</td>\n",
              "      <td>0</td>\n",
              "      <td>0</td>\n",
              "      <td>0</td>\n",
              "      <td>0</td>\n",
              "    </tr>\n",
              "  </tbody>\n",
              "</table>\n",
              "</div>"
            ],
            "text/plain": [
              "                timestamp  ... referencePointD\n",
              "0 2019-10-27 11:30:06.994  ...               9\n",
              "1 2019-08-28 05:18:20.325  ...               2\n",
              "2 2018-10-17 22:10:27.596  ...              10\n",
              "3 2019-10-28 12:38:39.350  ...               1\n",
              "4 2019-10-28 12:36:35.452  ...               0\n",
              "\n",
              "[5 rows x 14 columns]"
            ]
          },
          "metadata": {
            "tags": []
          },
          "execution_count": 5
        }
      ]
    },
    {
      "cell_type": "code",
      "metadata": {
        "id": "BaNfFqxZtr9A",
        "colab_type": "code",
        "outputId": "d5ec8fd9-bb5b-4da5-f9c8-7b87ac76eb8f",
        "colab": {
          "base_uri": "https://localhost:8080/",
          "height": 204
        }
      },
      "source": [
        "import pandas as pd\n",
        "url='https://cdn.fmi.fi/fmiodata-convert-api/output/csv-d11b8cf1-66ea-4849-94c9-e869ba924572.csv'\n",
        "df2 = pd.read_csv(url) \n",
        "df2.head()"
      ],
      "execution_count": 0,
      "outputs": [
        {
          "output_type": "execute_result",
          "data": {
            "text/html": [
              "<div>\n",
              "<style scoped>\n",
              "    .dataframe tbody tr th:only-of-type {\n",
              "        vertical-align: middle;\n",
              "    }\n",
              "\n",
              "    .dataframe tbody tr th {\n",
              "        vertical-align: top;\n",
              "    }\n",
              "\n",
              "    .dataframe thead th {\n",
              "        text-align: right;\n",
              "    }\n",
              "</style>\n",
              "<table border=\"1\" class=\"dataframe\">\n",
              "  <thead>\n",
              "    <tr style=\"text-align: right;\">\n",
              "      <th></th>\n",
              "      <th>Year</th>\n",
              "      <th>m</th>\n",
              "      <th>d</th>\n",
              "      <th>Time</th>\n",
              "      <th>Time zone</th>\n",
              "      <th>Horizontal visibility (m)</th>\n",
              "      <th>Wind speed (m/s)</th>\n",
              "    </tr>\n",
              "  </thead>\n",
              "  <tbody>\n",
              "    <tr>\n",
              "      <th>0</th>\n",
              "      <td>2019</td>\n",
              "      <td>10</td>\n",
              "      <td>27</td>\n",
              "      <td>00:00</td>\n",
              "      <td>UTC</td>\n",
              "      <td>27070.0</td>\n",
              "      <td>0.0</td>\n",
              "    </tr>\n",
              "    <tr>\n",
              "      <th>1</th>\n",
              "      <td>2019</td>\n",
              "      <td>10</td>\n",
              "      <td>27</td>\n",
              "      <td>01:00</td>\n",
              "      <td>UTC</td>\n",
              "      <td>4870.0</td>\n",
              "      <td>0.0</td>\n",
              "    </tr>\n",
              "    <tr>\n",
              "      <th>2</th>\n",
              "      <td>2019</td>\n",
              "      <td>10</td>\n",
              "      <td>27</td>\n",
              "      <td>02:00</td>\n",
              "      <td>UTC</td>\n",
              "      <td>4520.0</td>\n",
              "      <td>0.0</td>\n",
              "    </tr>\n",
              "    <tr>\n",
              "      <th>3</th>\n",
              "      <td>2019</td>\n",
              "      <td>10</td>\n",
              "      <td>27</td>\n",
              "      <td>03:00</td>\n",
              "      <td>UTC</td>\n",
              "      <td>7560.0</td>\n",
              "      <td>0.0</td>\n",
              "    </tr>\n",
              "    <tr>\n",
              "      <th>4</th>\n",
              "      <td>2019</td>\n",
              "      <td>10</td>\n",
              "      <td>27</td>\n",
              "      <td>04:00</td>\n",
              "      <td>UTC</td>\n",
              "      <td>10520.0</td>\n",
              "      <td>0.0</td>\n",
              "    </tr>\n",
              "  </tbody>\n",
              "</table>\n",
              "</div>"
            ],
            "text/plain": [
              "   Year   m   d   Time Time zone  Horizontal visibility (m)  Wind speed (m/s)\n",
              "0  2019  10  27  00:00       UTC                    27070.0               0.0\n",
              "1  2019  10  27  01:00       UTC                     4870.0               0.0\n",
              "2  2019  10  27  02:00       UTC                     4520.0               0.0\n",
              "3  2019  10  27  03:00       UTC                     7560.0               0.0\n",
              "4  2019  10  27  04:00       UTC                    10520.0               0.0"
            ]
          },
          "metadata": {
            "tags": []
          },
          "execution_count": 6
        }
      ]
    },
    {
      "cell_type": "code",
      "metadata": {
        "id": "w38oB5pZvKyo",
        "colab_type": "code",
        "outputId": "49787cd8-64e8-4e65-9c21-6b8f6daadbab",
        "colab": {
          "base_uri": "https://localhost:8080/",
          "height": 439
        }
      },
      "source": [
        "df3=df_index = pd.merge(df1, df2, right_index=True, left_index=True)\n",
        "\n",
        "df3.head(7)\n"
      ],
      "execution_count": 0,
      "outputs": [
        {
          "output_type": "execute_result",
          "data": {
            "text/html": [
              "<div>\n",
              "<style scoped>\n",
              "    .dataframe tbody tr th:only-of-type {\n",
              "        vertical-align: middle;\n",
              "    }\n",
              "\n",
              "    .dataframe tbody tr th {\n",
              "        vertical-align: top;\n",
              "    }\n",
              "\n",
              "    .dataframe thead th {\n",
              "        text-align: right;\n",
              "    }\n",
              "</style>\n",
              "<table border=\"1\" class=\"dataframe\">\n",
              "  <thead>\n",
              "    <tr style=\"text-align: right;\">\n",
              "      <th></th>\n",
              "      <th>timestamp</th>\n",
              "      <th>destination</th>\n",
              "      <th>name</th>\n",
              "      <th>mmsi</th>\n",
              "      <th>callSign</th>\n",
              "      <th>imo</th>\n",
              "      <th>shipType</th>\n",
              "      <th>draught</th>\n",
              "      <th>eta</th>\n",
              "      <th>posType</th>\n",
              "      <th>referencePointA</th>\n",
              "      <th>referencePointB</th>\n",
              "      <th>referencePointC</th>\n",
              "      <th>referencePointD</th>\n",
              "      <th>Year</th>\n",
              "      <th>m</th>\n",
              "      <th>d</th>\n",
              "      <th>Time</th>\n",
              "      <th>Time zone</th>\n",
              "      <th>Horizontal visibility (m)</th>\n",
              "      <th>Wind speed (m/s)</th>\n",
              "    </tr>\n",
              "  </thead>\n",
              "  <tbody>\n",
              "    <tr>\n",
              "      <th>0</th>\n",
              "      <td>2019-10-27 11:30:06.994</td>\n",
              "      <td>S,PETERBUG</td>\n",
              "      <td>BALT FLOT 4</td>\n",
              "      <td>273383250</td>\n",
              "      <td>UEWW</td>\n",
              "      <td>9751913</td>\n",
              "      <td>80</td>\n",
              "      <td>30</td>\n",
              "      <td>711936</td>\n",
              "      <td>15</td>\n",
              "      <td>119</td>\n",
              "      <td>22</td>\n",
              "      <td>8</td>\n",
              "      <td>9</td>\n",
              "      <td>2019</td>\n",
              "      <td>10</td>\n",
              "      <td>27</td>\n",
              "      <td>00:00</td>\n",
              "      <td>UTC</td>\n",
              "      <td>27070.0</td>\n",
              "      <td>0.0</td>\n",
              "    </tr>\n",
              "    <tr>\n",
              "      <th>1</th>\n",
              "      <td>2019-08-28 05:18:20.325</td>\n",
              "      <td>ROOMASSAARE  ABRUKA</td>\n",
              "      <td>ABRO</td>\n",
              "      <td>276808000</td>\n",
              "      <td>ESKA</td>\n",
              "      <td>0</td>\n",
              "      <td>60</td>\n",
              "      <td>0</td>\n",
              "      <td>1596</td>\n",
              "      <td>1</td>\n",
              "      <td>5</td>\n",
              "      <td>10</td>\n",
              "      <td>2</td>\n",
              "      <td>2</td>\n",
              "      <td>2019</td>\n",
              "      <td>10</td>\n",
              "      <td>27</td>\n",
              "      <td>01:00</td>\n",
              "      <td>UTC</td>\n",
              "      <td>4870.0</td>\n",
              "      <td>0.0</td>\n",
              "    </tr>\n",
              "    <tr>\n",
              "      <th>2</th>\n",
              "      <td>2018-10-17 22:10:27.596</td>\n",
              "      <td>SPB</td>\n",
              "      <td>VOLGONEFT-102</td>\n",
              "      <td>273274000</td>\n",
              "      <td>UBCE</td>\n",
              "      <td>0</td>\n",
              "      <td>90</td>\n",
              "      <td>36</td>\n",
              "      <td>691456</td>\n",
              "      <td>15</td>\n",
              "      <td>103</td>\n",
              "      <td>23</td>\n",
              "      <td>6</td>\n",
              "      <td>10</td>\n",
              "      <td>2019</td>\n",
              "      <td>10</td>\n",
              "      <td>27</td>\n",
              "      <td>02:00</td>\n",
              "      <td>UTC</td>\n",
              "      <td>4520.0</td>\n",
              "      <td>0.0</td>\n",
              "    </tr>\n",
              "    <tr>\n",
              "      <th>3</th>\n",
              "      <td>2019-10-28 12:38:39.350</td>\n",
              "      <td>ROHUNEEME</td>\n",
              "      <td>AHTO-26</td>\n",
              "      <td>276702000</td>\n",
              "      <td>ES2693</td>\n",
              "      <td>0</td>\n",
              "      <td>50</td>\n",
              "      <td>15</td>\n",
              "      <td>645760</td>\n",
              "      <td>1</td>\n",
              "      <td>15</td>\n",
              "      <td>4</td>\n",
              "      <td>3</td>\n",
              "      <td>1</td>\n",
              "      <td>2019</td>\n",
              "      <td>10</td>\n",
              "      <td>27</td>\n",
              "      <td>03:00</td>\n",
              "      <td>UTC</td>\n",
              "      <td>7560.0</td>\n",
              "      <td>0.0</td>\n",
              "    </tr>\n",
              "    <tr>\n",
              "      <th>4</th>\n",
              "      <td>2019-10-28 12:36:35.452</td>\n",
              "      <td>VARKAUS</td>\n",
              "      <td>MURILLO</td>\n",
              "      <td>230133370</td>\n",
              "      <td>OG8621</td>\n",
              "      <td>0</td>\n",
              "      <td>52</td>\n",
              "      <td>17</td>\n",
              "      <td>674944</td>\n",
              "      <td>15</td>\n",
              "      <td>0</td>\n",
              "      <td>0</td>\n",
              "      <td>0</td>\n",
              "      <td>0</td>\n",
              "      <td>2019</td>\n",
              "      <td>10</td>\n",
              "      <td>27</td>\n",
              "      <td>04:00</td>\n",
              "      <td>UTC</td>\n",
              "      <td>10520.0</td>\n",
              "      <td>0.0</td>\n",
              "    </tr>\n",
              "    <tr>\n",
              "      <th>5</th>\n",
              "      <td>2018-10-10 18:19:37.007</td>\n",
              "      <td>ICDAS TURKEY</td>\n",
              "      <td>SPAR URSA</td>\n",
              "      <td>259794000</td>\n",
              "      <td>LALC7</td>\n",
              "      <td>9490856</td>\n",
              "      <td>70</td>\n",
              "      <td>91</td>\n",
              "      <td>707328</td>\n",
              "      <td>1</td>\n",
              "      <td>160</td>\n",
              "      <td>30</td>\n",
              "      <td>20</td>\n",
              "      <td>12</td>\n",
              "      <td>2019</td>\n",
              "      <td>10</td>\n",
              "      <td>27</td>\n",
              "      <td>05:00</td>\n",
              "      <td>UTC</td>\n",
              "      <td>8750.0</td>\n",
              "      <td>0.0</td>\n",
              "    </tr>\n",
              "    <tr>\n",
              "      <th>6</th>\n",
              "      <td>2019-10-28 12:37:07.140</td>\n",
              "      <td>SEATRIAL</td>\n",
              "      <td>COSTA SMERALDA</td>\n",
              "      <td>247391900</td>\n",
              "      <td>IBCA</td>\n",
              "      <td>9781889</td>\n",
              "      <td>60</td>\n",
              "      <td>85</td>\n",
              "      <td>679232</td>\n",
              "      <td>3</td>\n",
              "      <td>33</td>\n",
              "      <td>304</td>\n",
              "      <td>25</td>\n",
              "      <td>25</td>\n",
              "      <td>2019</td>\n",
              "      <td>10</td>\n",
              "      <td>27</td>\n",
              "      <td>06:00</td>\n",
              "      <td>UTC</td>\n",
              "      <td>12850.0</td>\n",
              "      <td>0.0</td>\n",
              "    </tr>\n",
              "  </tbody>\n",
              "</table>\n",
              "</div>"
            ],
            "text/plain": [
              "                timestamp  ... Wind speed (m/s)\n",
              "0 2019-10-27 11:30:06.994  ...              0.0\n",
              "1 2019-08-28 05:18:20.325  ...              0.0\n",
              "2 2018-10-17 22:10:27.596  ...              0.0\n",
              "3 2019-10-28 12:38:39.350  ...              0.0\n",
              "4 2019-10-28 12:36:35.452  ...              0.0\n",
              "5 2018-10-10 18:19:37.007  ...              0.0\n",
              "6 2019-10-28 12:37:07.140  ...              0.0\n",
              "\n",
              "[7 rows x 21 columns]"
            ]
          },
          "metadata": {
            "tags": []
          },
          "execution_count": 7
        }
      ]
    },
    {
      "cell_type": "code",
      "metadata": {
        "id": "iTbMwK7bvSCW",
        "colab_type": "code",
        "outputId": "39b9111b-d83e-4751-8189-4ee138652f6d",
        "colab": {
          "base_uri": "https://localhost:8080/",
          "height": 204
        }
      },
      "source": [
        "df4 = df3[\"eta\"]\n",
        "  \n",
        "df4.head(10)"
      ],
      "execution_count": 0,
      "outputs": [
        {
          "output_type": "execute_result",
          "data": {
            "text/plain": [
              "0    711936\n",
              "1      1596\n",
              "2    691456\n",
              "3    645760\n",
              "4    674944\n",
              "5    707328\n",
              "6    679232\n",
              "7    630144\n",
              "8    650432\n",
              "9    803584\n",
              "Name: eta, dtype: int64"
            ]
          },
          "metadata": {
            "tags": []
          },
          "execution_count": 8
        }
      ]
    },
    {
      "cell_type": "code",
      "metadata": {
        "id": "iabgsxgBvTHe",
        "colab_type": "code",
        "outputId": "c8b509cb-71d7-4797-ad0a-3b7fc453293b",
        "colab": {
          "base_uri": "https://localhost:8080/",
          "height": 204
        }
      },
      "source": [
        "df5 = df2[\"Horizontal visibility (m)\"]\n",
        "df5.head(10)"
      ],
      "execution_count": 0,
      "outputs": [
        {
          "output_type": "execute_result",
          "data": {
            "text/plain": [
              "0    27070.0\n",
              "1     4870.0\n",
              "2     4520.0\n",
              "3     7560.0\n",
              "4    10520.0\n",
              "5     8750.0\n",
              "6    12850.0\n",
              "7    16700.0\n",
              "8    13940.0\n",
              "9    29700.0\n",
              "Name: Horizontal visibility (m), dtype: float64"
            ]
          },
          "metadata": {
            "tags": []
          },
          "execution_count": 9
        }
      ]
    },
    {
      "cell_type": "code",
      "metadata": {
        "id": "I9TC0HamvVau",
        "colab_type": "code",
        "outputId": "c12d2cb9-4dfe-4ce7-a627-c68062388e3b",
        "colab": {
          "base_uri": "https://localhost:8080/",
          "height": 204
        }
      },
      "source": [
        "df6= df2[\"Wind speed (m/s)\"]\n",
        "df6.head(10)"
      ],
      "execution_count": 0,
      "outputs": [
        {
          "output_type": "execute_result",
          "data": {
            "text/plain": [
              "0    0.0\n",
              "1    0.0\n",
              "2    0.0\n",
              "3    0.0\n",
              "4    0.0\n",
              "5    0.0\n",
              "6    0.0\n",
              "7    0.0\n",
              "8    0.0\n",
              "9    3.0\n",
              "Name: Wind speed (m/s), dtype: float64"
            ]
          },
          "metadata": {
            "tags": []
          },
          "execution_count": 10
        }
      ]
    },
    {
      "cell_type": "code",
      "metadata": {
        "id": "1QewaOuBvagW",
        "colab_type": "code",
        "outputId": "50942250-6407-421e-e836-a929b2fe166e",
        "colab": {
          "base_uri": "https://localhost:8080/",
          "height": 266
        }
      },
      "source": [
        "#Horizontal Visibility plus eta\n",
        "df7= pd.merge(df4, df5, right_index=True, left_index=True)\n",
        "df7.head(7)\n"
      ],
      "execution_count": 0,
      "outputs": [
        {
          "output_type": "execute_result",
          "data": {
            "text/html": [
              "<div>\n",
              "<style scoped>\n",
              "    .dataframe tbody tr th:only-of-type {\n",
              "        vertical-align: middle;\n",
              "    }\n",
              "\n",
              "    .dataframe tbody tr th {\n",
              "        vertical-align: top;\n",
              "    }\n",
              "\n",
              "    .dataframe thead th {\n",
              "        text-align: right;\n",
              "    }\n",
              "</style>\n",
              "<table border=\"1\" class=\"dataframe\">\n",
              "  <thead>\n",
              "    <tr style=\"text-align: right;\">\n",
              "      <th></th>\n",
              "      <th>eta</th>\n",
              "      <th>Horizontal visibility (m)</th>\n",
              "    </tr>\n",
              "  </thead>\n",
              "  <tbody>\n",
              "    <tr>\n",
              "      <th>0</th>\n",
              "      <td>711936</td>\n",
              "      <td>27070.0</td>\n",
              "    </tr>\n",
              "    <tr>\n",
              "      <th>1</th>\n",
              "      <td>1596</td>\n",
              "      <td>4870.0</td>\n",
              "    </tr>\n",
              "    <tr>\n",
              "      <th>2</th>\n",
              "      <td>691456</td>\n",
              "      <td>4520.0</td>\n",
              "    </tr>\n",
              "    <tr>\n",
              "      <th>3</th>\n",
              "      <td>645760</td>\n",
              "      <td>7560.0</td>\n",
              "    </tr>\n",
              "    <tr>\n",
              "      <th>4</th>\n",
              "      <td>674944</td>\n",
              "      <td>10520.0</td>\n",
              "    </tr>\n",
              "    <tr>\n",
              "      <th>5</th>\n",
              "      <td>707328</td>\n",
              "      <td>8750.0</td>\n",
              "    </tr>\n",
              "    <tr>\n",
              "      <th>6</th>\n",
              "      <td>679232</td>\n",
              "      <td>12850.0</td>\n",
              "    </tr>\n",
              "  </tbody>\n",
              "</table>\n",
              "</div>"
            ],
            "text/plain": [
              "      eta  Horizontal visibility (m)\n",
              "0  711936                    27070.0\n",
              "1    1596                     4870.0\n",
              "2  691456                     4520.0\n",
              "3  645760                     7560.0\n",
              "4  674944                    10520.0\n",
              "5  707328                     8750.0\n",
              "6  679232                    12850.0"
            ]
          },
          "metadata": {
            "tags": []
          },
          "execution_count": 11
        }
      ]
    },
    {
      "cell_type": "code",
      "metadata": {
        "id": "GuPz8YaDvdGF",
        "colab_type": "code",
        "outputId": "3081f1e2-18d6-4ec5-ad4f-a41504d936c2",
        "colab": {
          "base_uri": "https://localhost:8080/",
          "height": 266
        }
      },
      "source": [
        "#eta plus WindSpeed\n",
        "df8= pd.merge(df4, df6, right_index=True, left_index=True)\n",
        "df8.tail(7)"
      ],
      "execution_count": 0,
      "outputs": [
        {
          "output_type": "execute_result",
          "data": {
            "text/html": [
              "<div>\n",
              "<style scoped>\n",
              "    .dataframe tbody tr th:only-of-type {\n",
              "        vertical-align: middle;\n",
              "    }\n",
              "\n",
              "    .dataframe tbody tr th {\n",
              "        vertical-align: top;\n",
              "    }\n",
              "\n",
              "    .dataframe thead th {\n",
              "        text-align: right;\n",
              "    }\n",
              "</style>\n",
              "<table border=\"1\" class=\"dataframe\">\n",
              "  <thead>\n",
              "    <tr style=\"text-align: right;\">\n",
              "      <th></th>\n",
              "      <th>eta</th>\n",
              "      <th>Wind speed (m/s)</th>\n",
              "    </tr>\n",
              "  </thead>\n",
              "  <tbody>\n",
              "    <tr>\n",
              "      <th>18</th>\n",
              "      <td>405632</td>\n",
              "      <td>0.0</td>\n",
              "    </tr>\n",
              "    <tr>\n",
              "      <th>19</th>\n",
              "      <td>774144</td>\n",
              "      <td>0.0</td>\n",
              "    </tr>\n",
              "    <tr>\n",
              "      <th>20</th>\n",
              "      <td>771456</td>\n",
              "      <td>0.0</td>\n",
              "    </tr>\n",
              "    <tr>\n",
              "      <th>21</th>\n",
              "      <td>612736</td>\n",
              "      <td>0.0</td>\n",
              "    </tr>\n",
              "    <tr>\n",
              "      <th>22</th>\n",
              "      <td>639488</td>\n",
              "      <td>0.0</td>\n",
              "    </tr>\n",
              "    <tr>\n",
              "      <th>23</th>\n",
              "      <td>74994</td>\n",
              "      <td>0.0</td>\n",
              "    </tr>\n",
              "    <tr>\n",
              "      <th>24</th>\n",
              "      <td>712705</td>\n",
              "      <td>0.0</td>\n",
              "    </tr>\n",
              "  </tbody>\n",
              "</table>\n",
              "</div>"
            ],
            "text/plain": [
              "       eta  Wind speed (m/s)\n",
              "18  405632               0.0\n",
              "19  774144               0.0\n",
              "20  771456               0.0\n",
              "21  612736               0.0\n",
              "22  639488               0.0\n",
              "23   74994               0.0\n",
              "24  712705               0.0"
            ]
          },
          "metadata": {
            "tags": []
          },
          "execution_count": 12
        }
      ]
    },
    {
      "cell_type": "code",
      "metadata": {
        "id": "SXuCmKrZvhT9",
        "colab_type": "code",
        "colab": {}
      },
      "source": [
        "## Import packages\n",
        "import tensorflow as tf\n",
        "import numpy as np\n",
        "import pandas as pd\n",
        "import matplotlib.pyplot as plt\n"
      ],
      "execution_count": 0,
      "outputs": []
    },
    {
      "cell_type": "code",
      "metadata": {
        "id": "WkPH9JnSI3Wy",
        "colab_type": "code",
        "colab": {}
      },
      "source": [
        "#Define your useful columns of data\n",
        "column1=df7['eta'].values\n",
        "column2=df7['Horizontal visibility (m)'].values"
      ],
      "execution_count": 0,
      "outputs": []
    },
    {
      "cell_type": "markdown",
      "metadata": {
        "colab_type": "text",
        "id": "sgUEzbEIYvnn"
      },
      "source": [
        ""
      ]
    },
    {
      "cell_type": "code",
      "metadata": {
        "id": "Y23w15khZYhe",
        "colab_type": "code",
        "colab": {}
      },
      "source": [
        "x_batch = np.linspace(0,  803584, 100)\n",
        "y_batch = 1.5 * x_batch + np.random.randn(*x_batch.shape) * 0.2 + 0.5\n"
      ],
      "execution_count": 0,
      "outputs": []
    },
    {
      "cell_type": "code",
      "metadata": {
        "id": "QRHeuTbuZ0em",
        "colab_type": "code",
        "outputId": "26caca6f-d009-4c4f-935b-ca35b3b262c5",
        "colab": {
          "base_uri": "https://localhost:8080/",
          "height": 282
        }
      },
      "source": [
        "plt.scatter(x_batch, y_batch)"
      ],
      "execution_count": 0,
      "outputs": [
        {
          "output_type": "execute_result",
          "data": {
            "text/plain": [
              "<matplotlib.collections.PathCollection at 0x7f5646013ba8>"
            ]
          },
          "metadata": {
            "tags": []
          },
          "execution_count": 21
        },
        {
          "output_type": "display_data",
          "data": {
            "image/png": "[encoded data removed]",
            "text/plain": [
              "<Figure size 432x288 with 1 Axes>"
            ]
          },
          "metadata": {
            "tags": []
          }
        }
      ]
    }
  ]
}