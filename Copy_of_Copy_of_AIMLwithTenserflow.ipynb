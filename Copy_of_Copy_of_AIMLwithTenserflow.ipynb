{
  "nbformat": 4,
  "nbformat_minor": 0,
  "metadata": {
    "colab": {
      "name": "Copy of Copy of AIMLwithTenserflow.ipynb",
      "provenance": [],
      "collapsed_sections": [],
      "include_colab_link": true
    },
    "kernelspec": {
      "name": "python3",
      "display_name": "Python 3"
    },
    "accelerator": "GPU"
  },
  "cells": [
    {
      "cell_type": "markdown",
      "metadata": {
        "id": "view-in-github",
        "colab_type": "text"
      },
      "source": [
        "<a href=\"https://colab.research.google.com/github/Nido89/RegressionInTenserflow3.0/blob/master/Copy_of_Copy_of_AIMLwithTenserflow.ipynb\" target=\"_parent\"><img src=\"https://colab.research.google.com/assets/colab-badge.svg\" alt=\"Open In Colab\"/></a>"
      ]
    },
    {
      "cell_type": "code",
      "metadata": {
        "id": "q07nR7hVtQgJ",
        "colab_type": "code",
        "outputId": "693aeb45-2a5a-4253-8e12-fbff4526c352",
        "colab": {
          "base_uri": "https://localhost:8080/",
          "height": 309
        }
      },
      "source": [
        "import pandas as pd\n",
        "df1 = pd.read_json(\"https://meri.digitraffic.fi/api/v1/metadata/vessels\")\n",
        "df1.head()"
      ],
      "execution_count": 0,
      "outputs": [
        {
          "output_type": "execute_result",
          "data": {
            "text/html": [
              "<div>\n",
              "<style scoped>\n",
              "    .dataframe tbody tr th:only-of-type {\n",
              "        vertical-align: middle;\n",
              "    }\n",
              "\n",
              "    .dataframe tbody tr th {\n",
              "        vertical-align: top;\n",
              "    }\n",
              "\n",
              "    .dataframe thead th {\n",
              "        text-align: right;\n",
              "    }\n",
              "</style>\n",
              "<table border=\"1\" class=\"dataframe\">\n",
              "  <thead>\n",
              "    <tr style=\"text-align: right;\">\n",
              "      <th></th>\n",
              "      <th>timestamp</th>\n",
              "      <th>destination</th>\n",
              "      <th>mmsi</th>\n",
              "      <th>callSign</th>\n",
              "      <th>imo</th>\n",
              "      <th>shipType</th>\n",
              "      <th>draught</th>\n",
              "      <th>eta</th>\n",
              "      <th>posType</th>\n",
              "      <th>referencePointA</th>\n",
              "      <th>referencePointB</th>\n",
              "      <th>referencePointC</th>\n",
              "      <th>referencePointD</th>\n",
              "      <th>name</th>\n",
              "    </tr>\n",
              "  </thead>\n",
              "  <tbody>\n",
              "    <tr>\n",
              "      <th>0</th>\n",
              "      <td>2019-10-27 11:30:06.994</td>\n",
              "      <td>S,PETERBUG</td>\n",
              "      <td>273383250</td>\n",
              "      <td>UEWW</td>\n",
              "      <td>9751913</td>\n",
              "      <td>80</td>\n",
              "      <td>30</td>\n",
              "      <td>711936</td>\n",
              "      <td>15</td>\n",
              "      <td>119</td>\n",
              "      <td>22</td>\n",
              "      <td>8</td>\n",
              "      <td>9</td>\n",
              "      <td>BALT FLOT 4</td>\n",
              "    </tr>\n",
              "    <tr>\n",
              "      <th>1</th>\n",
              "      <td>2019-08-28 05:18:20.325</td>\n",
              "      <td>ROOMASSAARE  ABRUKA</td>\n",
              "      <td>276808000</td>\n",
              "      <td>ESKA</td>\n",
              "      <td>0</td>\n",
              "      <td>60</td>\n",
              "      <td>0</td>\n",
              "      <td>1596</td>\n",
              "      <td>1</td>\n",
              "      <td>5</td>\n",
              "      <td>10</td>\n",
              "      <td>2</td>\n",
              "      <td>2</td>\n",
              "      <td>ABRO</td>\n",
              "    </tr>\n",
              "    <tr>\n",
              "      <th>2</th>\n",
              "      <td>2018-10-17 22:10:27.596</td>\n",
              "      <td>SPB</td>\n",
              "      <td>273274000</td>\n",
              "      <td>UBCE</td>\n",
              "      <td>0</td>\n",
              "      <td>90</td>\n",
              "      <td>36</td>\n",
              "      <td>691456</td>\n",
              "      <td>15</td>\n",
              "      <td>103</td>\n",
              "      <td>23</td>\n",
              "      <td>6</td>\n",
              "      <td>10</td>\n",
              "      <td>VOLGONEFT-102</td>\n",
              "    </tr>\n",
              "    <tr>\n",
              "      <th>3</th>\n",
              "      <td>2019-10-29 21:22:55.371</td>\n",
              "      <td>SEHUS</td>\n",
              "      <td>273314210</td>\n",
              "      <td>UBNL</td>\n",
              "      <td>8851390</td>\n",
              "      <td>70</td>\n",
              "      <td>37</td>\n",
              "      <td>723840</td>\n",
              "      <td>3</td>\n",
              "      <td>95</td>\n",
              "      <td>18</td>\n",
              "      <td>4</td>\n",
              "      <td>9</td>\n",
              "      <td>VOLGO-BALT 136</td>\n",
              "    </tr>\n",
              "    <tr>\n",
              "      <th>4</th>\n",
              "      <td>2019-10-29 21:21:36.767</td>\n",
              "      <td>KIMITO</td>\n",
              "      <td>230015000</td>\n",
              "      <td>OJPX</td>\n",
              "      <td>8609606</td>\n",
              "      <td>70</td>\n",
              "      <td>41</td>\n",
              "      <td>715392</td>\n",
              "      <td>1</td>\n",
              "      <td>74</td>\n",
              "      <td>14</td>\n",
              "      <td>10</td>\n",
              "      <td>3</td>\n",
              "      <td>PRIMA DONNA</td>\n",
              "    </tr>\n",
              "  </tbody>\n",
              "</table>\n",
              "</div>"
            ],
            "text/plain": [
              "                timestamp          destination  ...  referencePointD            name\n",
              "0 2019-10-27 11:30:06.994          S,PETERBUG   ...                9    BALT FLOT 4 \n",
              "1 2019-08-28 05:18:20.325  ROOMASSAARE  ABRUKA  ...                2            ABRO\n",
              "2 2018-10-17 22:10:27.596                  SPB  ...               10   VOLGONEFT-102\n",
              "3 2019-10-29 21:22:55.371                SEHUS  ...                9  VOLGO-BALT 136\n",
              "4 2019-10-29 21:21:36.767               KIMITO  ...                3     PRIMA DONNA\n",
              "\n",
              "[5 rows x 14 columns]"
            ]
          },
          "metadata": {
            "tags": []
          },
          "execution_count": 65
        }
      ]
    },
    {
      "cell_type": "code",
      "metadata": {
        "id": "BaNfFqxZtr9A",
        "colab_type": "code",
        "outputId": "fb36b734-1582-4791-d57a-a7471c8cb115",
        "colab": {
          "base_uri": "https://localhost:8080/",
          "height": 204
        }
      },
      "source": [
        "import pandas as pd\n",
        "url='https://cdn.fmi.fi/fmiodata-convert-api/output/csv-2e8d0ad1-d115-4e41-966a-5a907783d408.csv'\n",
        "df2 = pd.read_csv(url) \n",
        "df2.head()"
      ],
      "execution_count": 0,
      "outputs": [
        {
          "output_type": "execute_result",
          "data": {
            "text/html": [
              "<div>\n",
              "<style scoped>\n",
              "    .dataframe tbody tr th:only-of-type {\n",
              "        vertical-align: middle;\n",
              "    }\n",
              "\n",
              "    .dataframe tbody tr th {\n",
              "        vertical-align: top;\n",
              "    }\n",
              "\n",
              "    .dataframe thead th {\n",
              "        text-align: right;\n",
              "    }\n",
              "</style>\n",
              "<table border=\"1\" class=\"dataframe\">\n",
              "  <thead>\n",
              "    <tr style=\"text-align: right;\">\n",
              "      <th></th>\n",
              "      <th>Year</th>\n",
              "      <th>m</th>\n",
              "      <th>d</th>\n",
              "      <th>Time</th>\n",
              "      <th>Time zone</th>\n",
              "      <th>Horizontal visibility (m)</th>\n",
              "      <th>Wind speed (m/s)</th>\n",
              "    </tr>\n",
              "  </thead>\n",
              "  <tbody>\n",
              "    <tr>\n",
              "      <th>0</th>\n",
              "      <td>2019</td>\n",
              "      <td>10</td>\n",
              "      <td>27</td>\n",
              "      <td>00:00</td>\n",
              "      <td>UTC</td>\n",
              "      <td>27070</td>\n",
              "      <td>0.0</td>\n",
              "    </tr>\n",
              "    <tr>\n",
              "      <th>1</th>\n",
              "      <td>2019</td>\n",
              "      <td>10</td>\n",
              "      <td>27</td>\n",
              "      <td>01:00</td>\n",
              "      <td>UTC</td>\n",
              "      <td>4870</td>\n",
              "      <td>0.0</td>\n",
              "    </tr>\n",
              "    <tr>\n",
              "      <th>2</th>\n",
              "      <td>2019</td>\n",
              "      <td>10</td>\n",
              "      <td>27</td>\n",
              "      <td>02:00</td>\n",
              "      <td>UTC</td>\n",
              "      <td>4520</td>\n",
              "      <td>0.0</td>\n",
              "    </tr>\n",
              "    <tr>\n",
              "      <th>3</th>\n",
              "      <td>2019</td>\n",
              "      <td>10</td>\n",
              "      <td>27</td>\n",
              "      <td>03:00</td>\n",
              "      <td>UTC</td>\n",
              "      <td>7560</td>\n",
              "      <td>0.0</td>\n",
              "    </tr>\n",
              "    <tr>\n",
              "      <th>4</th>\n",
              "      <td>2019</td>\n",
              "      <td>10</td>\n",
              "      <td>27</td>\n",
              "      <td>04:00</td>\n",
              "      <td>UTC</td>\n",
              "      <td>10520</td>\n",
              "      <td>0.0</td>\n",
              "    </tr>\n",
              "  </tbody>\n",
              "</table>\n",
              "</div>"
            ],
            "text/plain": [
              "   Year   m   d   Time Time zone  Horizontal visibility (m)  Wind speed (m/s)\n",
              "0  2019  10  27  00:00       UTC                      27070               0.0\n",
              "1  2019  10  27  01:00       UTC                       4870               0.0\n",
              "2  2019  10  27  02:00       UTC                       4520               0.0\n",
              "3  2019  10  27  03:00       UTC                       7560               0.0\n",
              "4  2019  10  27  04:00       UTC                      10520               0.0"
            ]
          },
          "metadata": {
            "tags": []
          },
          "execution_count": 66
        }
      ]
    },
    {
      "cell_type": "code",
      "metadata": {
        "id": "w38oB5pZvKyo",
        "colab_type": "code",
        "outputId": "a73093dd-df98-4303-c75e-bcba9b17f67f",
        "colab": {
          "base_uri": "https://localhost:8080/",
          "height": 439
        }
      },
      "source": [
        "df3=df_index = pd.merge(df1, df2, right_index=True, left_index=True)\n",
        "\n",
        "df3.head(7)\n"
      ],
      "execution_count": 0,
      "outputs": [
        {
          "output_type": "execute_result",
          "data": {
            "text/html": [
              "<div>\n",
              "<style scoped>\n",
              "    .dataframe tbody tr th:only-of-type {\n",
              "        vertical-align: middle;\n",
              "    }\n",
              "\n",
              "    .dataframe tbody tr th {\n",
              "        vertical-align: top;\n",
              "    }\n",
              "\n",
              "    .dataframe thead th {\n",
              "        text-align: right;\n",
              "    }\n",
              "</style>\n",
              "<table border=\"1\" class=\"dataframe\">\n",
              "  <thead>\n",
              "    <tr style=\"text-align: right;\">\n",
              "      <th></th>\n",
              "      <th>timestamp</th>\n",
              "      <th>destination</th>\n",
              "      <th>mmsi</th>\n",
              "      <th>callSign</th>\n",
              "      <th>imo</th>\n",
              "      <th>shipType</th>\n",
              "      <th>draught</th>\n",
              "      <th>eta</th>\n",
              "      <th>posType</th>\n",
              "      <th>referencePointA</th>\n",
              "      <th>referencePointB</th>\n",
              "      <th>referencePointC</th>\n",
              "      <th>referencePointD</th>\n",
              "      <th>name</th>\n",
              "      <th>Year</th>\n",
              "      <th>m</th>\n",
              "      <th>d</th>\n",
              "      <th>Time</th>\n",
              "      <th>Time zone</th>\n",
              "      <th>Horizontal visibility (m)</th>\n",
              "      <th>Wind speed (m/s)</th>\n",
              "    </tr>\n",
              "  </thead>\n",
              "  <tbody>\n",
              "    <tr>\n",
              "      <th>0</th>\n",
              "      <td>2019-10-27 11:30:06.994</td>\n",
              "      <td>S,PETERBUG</td>\n",
              "      <td>273383250</td>\n",
              "      <td>UEWW</td>\n",
              "      <td>9751913</td>\n",
              "      <td>80</td>\n",
              "      <td>30</td>\n",
              "      <td>711936</td>\n",
              "      <td>15</td>\n",
              "      <td>119</td>\n",
              "      <td>22</td>\n",
              "      <td>8</td>\n",
              "      <td>9</td>\n",
              "      <td>BALT FLOT 4</td>\n",
              "      <td>2019</td>\n",
              "      <td>10</td>\n",
              "      <td>27</td>\n",
              "      <td>00:00</td>\n",
              "      <td>UTC</td>\n",
              "      <td>27070</td>\n",
              "      <td>0.0</td>\n",
              "    </tr>\n",
              "    <tr>\n",
              "      <th>1</th>\n",
              "      <td>2019-08-28 05:18:20.325</td>\n",
              "      <td>ROOMASSAARE  ABRUKA</td>\n",
              "      <td>276808000</td>\n",
              "      <td>ESKA</td>\n",
              "      <td>0</td>\n",
              "      <td>60</td>\n",
              "      <td>0</td>\n",
              "      <td>1596</td>\n",
              "      <td>1</td>\n",
              "      <td>5</td>\n",
              "      <td>10</td>\n",
              "      <td>2</td>\n",
              "      <td>2</td>\n",
              "      <td>ABRO</td>\n",
              "      <td>2019</td>\n",
              "      <td>10</td>\n",
              "      <td>27</td>\n",
              "      <td>01:00</td>\n",
              "      <td>UTC</td>\n",
              "      <td>4870</td>\n",
              "      <td>0.0</td>\n",
              "    </tr>\n",
              "    <tr>\n",
              "      <th>2</th>\n",
              "      <td>2018-10-17 22:10:27.596</td>\n",
              "      <td>SPB</td>\n",
              "      <td>273274000</td>\n",
              "      <td>UBCE</td>\n",
              "      <td>0</td>\n",
              "      <td>90</td>\n",
              "      <td>36</td>\n",
              "      <td>691456</td>\n",
              "      <td>15</td>\n",
              "      <td>103</td>\n",
              "      <td>23</td>\n",
              "      <td>6</td>\n",
              "      <td>10</td>\n",
              "      <td>VOLGONEFT-102</td>\n",
              "      <td>2019</td>\n",
              "      <td>10</td>\n",
              "      <td>27</td>\n",
              "      <td>02:00</td>\n",
              "      <td>UTC</td>\n",
              "      <td>4520</td>\n",
              "      <td>0.0</td>\n",
              "    </tr>\n",
              "    <tr>\n",
              "      <th>3</th>\n",
              "      <td>2019-10-29 21:22:55.371</td>\n",
              "      <td>SEHUS</td>\n",
              "      <td>273314210</td>\n",
              "      <td>UBNL</td>\n",
              "      <td>8851390</td>\n",
              "      <td>70</td>\n",
              "      <td>37</td>\n",
              "      <td>723840</td>\n",
              "      <td>3</td>\n",
              "      <td>95</td>\n",
              "      <td>18</td>\n",
              "      <td>4</td>\n",
              "      <td>9</td>\n",
              "      <td>VOLGO-BALT 136</td>\n",
              "      <td>2019</td>\n",
              "      <td>10</td>\n",
              "      <td>27</td>\n",
              "      <td>03:00</td>\n",
              "      <td>UTC</td>\n",
              "      <td>7560</td>\n",
              "      <td>0.0</td>\n",
              "    </tr>\n",
              "    <tr>\n",
              "      <th>4</th>\n",
              "      <td>2019-10-29 21:21:36.767</td>\n",
              "      <td>KIMITO</td>\n",
              "      <td>230015000</td>\n",
              "      <td>OJPX</td>\n",
              "      <td>8609606</td>\n",
              "      <td>70</td>\n",
              "      <td>41</td>\n",
              "      <td>715392</td>\n",
              "      <td>1</td>\n",
              "      <td>74</td>\n",
              "      <td>14</td>\n",
              "      <td>10</td>\n",
              "      <td>3</td>\n",
              "      <td>PRIMA DONNA</td>\n",
              "      <td>2019</td>\n",
              "      <td>10</td>\n",
              "      <td>27</td>\n",
              "      <td>04:00</td>\n",
              "      <td>UTC</td>\n",
              "      <td>10520</td>\n",
              "      <td>0.0</td>\n",
              "    </tr>\n",
              "    <tr>\n",
              "      <th>5</th>\n",
              "      <td>2018-10-10 18:19:37.007</td>\n",
              "      <td>ICDAS TURKEY</td>\n",
              "      <td>259794000</td>\n",
              "      <td>LALC7</td>\n",
              "      <td>9490856</td>\n",
              "      <td>70</td>\n",
              "      <td>91</td>\n",
              "      <td>707328</td>\n",
              "      <td>1</td>\n",
              "      <td>160</td>\n",
              "      <td>30</td>\n",
              "      <td>20</td>\n",
              "      <td>12</td>\n",
              "      <td>SPAR URSA</td>\n",
              "      <td>2019</td>\n",
              "      <td>10</td>\n",
              "      <td>27</td>\n",
              "      <td>05:00</td>\n",
              "      <td>UTC</td>\n",
              "      <td>8750</td>\n",
              "      <td>0.0</td>\n",
              "    </tr>\n",
              "    <tr>\n",
              "      <th>6</th>\n",
              "      <td>2019-09-17 23:39:06.515</td>\n",
              "      <td>STETTIN</td>\n",
              "      <td>304559000</td>\n",
              "      <td>V2OK3</td>\n",
              "      <td>8205187</td>\n",
              "      <td>70</td>\n",
              "      <td>23</td>\n",
              "      <td>630144</td>\n",
              "      <td>1</td>\n",
              "      <td>60</td>\n",
              "      <td>14</td>\n",
              "      <td>3</td>\n",
              "      <td>9</td>\n",
              "      <td>LISA D</td>\n",
              "      <td>2019</td>\n",
              "      <td>10</td>\n",
              "      <td>27</td>\n",
              "      <td>06:00</td>\n",
              "      <td>UTC</td>\n",
              "      <td>12850</td>\n",
              "      <td>0.0</td>\n",
              "    </tr>\n",
              "  </tbody>\n",
              "</table>\n",
              "</div>"
            ],
            "text/plain": [
              "                timestamp  ... Wind speed (m/s)\n",
              "0 2019-10-27 11:30:06.994  ...              0.0\n",
              "1 2019-08-28 05:18:20.325  ...              0.0\n",
              "2 2018-10-17 22:10:27.596  ...              0.0\n",
              "3 2019-10-29 21:22:55.371  ...              0.0\n",
              "4 2019-10-29 21:21:36.767  ...              0.0\n",
              "5 2018-10-10 18:19:37.007  ...              0.0\n",
              "6 2019-09-17 23:39:06.515  ...              0.0\n",
              "\n",
              "[7 rows x 21 columns]"
            ]
          },
          "metadata": {
            "tags": []
          },
          "execution_count": 67
        }
      ]
    },
    {
      "cell_type": "code",
      "metadata": {
        "id": "iTbMwK7bvSCW",
        "colab_type": "code",
        "outputId": "05e1e191-c45e-4c82-a3d7-558ce3ac261c",
        "colab": {
          "base_uri": "https://localhost:8080/",
          "height": 204
        }
      },
      "source": [
        "df4 = df3[\"eta\"]\n",
        "  \n",
        "df4.head(10)"
      ],
      "execution_count": 0,
      "outputs": [
        {
          "output_type": "execute_result",
          "data": {
            "text/plain": [
              "0    711936\n",
              "1      1596\n",
              "2    691456\n",
              "3    723840\n",
              "4    715392\n",
              "5    707328\n",
              "6    630144\n",
              "7    650432\n",
              "8    803584\n",
              "9      1596\n",
              "Name: eta, dtype: int64"
            ]
          },
          "metadata": {
            "tags": []
          },
          "execution_count": 68
        }
      ]
    },
    {
      "cell_type": "code",
      "metadata": {
        "id": "iabgsxgBvTHe",
        "colab_type": "code",
        "outputId": "51695384-d71c-4b5a-fa6f-2fd168e420b3",
        "colab": {
          "base_uri": "https://localhost:8080/",
          "height": 204
        }
      },
      "source": [
        "df5 = df2[\"Horizontal visibility (m)\"]\n",
        "df5.head(10)"
      ],
      "execution_count": 0,
      "outputs": [
        {
          "output_type": "execute_result",
          "data": {
            "text/plain": [
              "0    27070\n",
              "1     4870\n",
              "2     4520\n",
              "3     7560\n",
              "4    10520\n",
              "5     8750\n",
              "6    12850\n",
              "7    16700\n",
              "8    13940\n",
              "9    29700\n",
              "Name: Horizontal visibility (m), dtype: int64"
            ]
          },
          "metadata": {
            "tags": []
          },
          "execution_count": 69
        }
      ]
    },
    {
      "cell_type": "code",
      "metadata": {
        "id": "I9TC0HamvVau",
        "colab_type": "code",
        "outputId": "4547463f-f96d-4316-dca4-e3cdb95696c1",
        "colab": {
          "base_uri": "https://localhost:8080/",
          "height": 204
        }
      },
      "source": [
        "df6= df2[\"Wind speed (m/s)\"]\n",
        "df6.head(10)"
      ],
      "execution_count": 0,
      "outputs": [
        {
          "output_type": "execute_result",
          "data": {
            "text/plain": [
              "0    0.0\n",
              "1    0.0\n",
              "2    0.0\n",
              "3    0.0\n",
              "4    0.0\n",
              "5    0.0\n",
              "6    0.0\n",
              "7    0.0\n",
              "8    0.0\n",
              "9    3.0\n",
              "Name: Wind speed (m/s), dtype: float64"
            ]
          },
          "metadata": {
            "tags": []
          },
          "execution_count": 70
        }
      ]
    },
    {
      "cell_type": "code",
      "metadata": {
        "id": "1QewaOuBvagW",
        "colab_type": "code",
        "outputId": "69963998-64bb-4dac-e9c4-677635cf151f",
        "colab": {
          "base_uri": "https://localhost:8080/",
          "height": 266
        }
      },
      "source": [
        "#Horizontal Visibility plus eta\n",
        "df7= pd.merge(df4, df5, right_index=True, left_index=True)\n",
        "df7.head(7)\n"
      ],
      "execution_count": 0,
      "outputs": [
        {
          "output_type": "execute_result",
          "data": {
            "text/html": [
              "<div>\n",
              "<style scoped>\n",
              "    .dataframe tbody tr th:only-of-type {\n",
              "        vertical-align: middle;\n",
              "    }\n",
              "\n",
              "    .dataframe tbody tr th {\n",
              "        vertical-align: top;\n",
              "    }\n",
              "\n",
              "    .dataframe thead th {\n",
              "        text-align: right;\n",
              "    }\n",
              "</style>\n",
              "<table border=\"1\" class=\"dataframe\">\n",
              "  <thead>\n",
              "    <tr style=\"text-align: right;\">\n",
              "      <th></th>\n",
              "      <th>eta</th>\n",
              "      <th>Horizontal visibility (m)</th>\n",
              "    </tr>\n",
              "  </thead>\n",
              "  <tbody>\n",
              "    <tr>\n",
              "      <th>0</th>\n",
              "      <td>711936</td>\n",
              "      <td>27070</td>\n",
              "    </tr>\n",
              "    <tr>\n",
              "      <th>1</th>\n",
              "      <td>1596</td>\n",
              "      <td>4870</td>\n",
              "    </tr>\n",
              "    <tr>\n",
              "      <th>2</th>\n",
              "      <td>691456</td>\n",
              "      <td>4520</td>\n",
              "    </tr>\n",
              "    <tr>\n",
              "      <th>3</th>\n",
              "      <td>723840</td>\n",
              "      <td>7560</td>\n",
              "    </tr>\n",
              "    <tr>\n",
              "      <th>4</th>\n",
              "      <td>715392</td>\n",
              "      <td>10520</td>\n",
              "    </tr>\n",
              "    <tr>\n",
              "      <th>5</th>\n",
              "      <td>707328</td>\n",
              "      <td>8750</td>\n",
              "    </tr>\n",
              "    <tr>\n",
              "      <th>6</th>\n",
              "      <td>630144</td>\n",
              "      <td>12850</td>\n",
              "    </tr>\n",
              "  </tbody>\n",
              "</table>\n",
              "</div>"
            ],
            "text/plain": [
              "      eta  Horizontal visibility (m)\n",
              "0  711936                      27070\n",
              "1    1596                       4870\n",
              "2  691456                       4520\n",
              "3  723840                       7560\n",
              "4  715392                      10520\n",
              "5  707328                       8750\n",
              "6  630144                      12850"
            ]
          },
          "metadata": {
            "tags": []
          },
          "execution_count": 71
        }
      ]
    },
    {
      "cell_type": "code",
      "metadata": {
        "id": "GuPz8YaDvdGF",
        "colab_type": "code",
        "outputId": "61afb7dd-cf8a-41c8-a41b-e930ba9b4522",
        "colab": {
          "base_uri": "https://localhost:8080/",
          "height": 266
        }
      },
      "source": [
        "#eta plus WindSpeed\n",
        "df8= pd.merge(df4, df6, right_index=True, left_index=True)\n",
        "df8.tail(7)"
      ],
      "execution_count": 0,
      "outputs": [
        {
          "output_type": "execute_result",
          "data": {
            "text/html": [
              "<div>\n",
              "<style scoped>\n",
              "    .dataframe tbody tr th:only-of-type {\n",
              "        vertical-align: middle;\n",
              "    }\n",
              "\n",
              "    .dataframe tbody tr th {\n",
              "        vertical-align: top;\n",
              "    }\n",
              "\n",
              "    .dataframe thead th {\n",
              "        text-align: right;\n",
              "    }\n",
              "</style>\n",
              "<table border=\"1\" class=\"dataframe\">\n",
              "  <thead>\n",
              "    <tr style=\"text-align: right;\">\n",
              "      <th></th>\n",
              "      <th>eta</th>\n",
              "      <th>Wind speed (m/s)</th>\n",
              "    </tr>\n",
              "  </thead>\n",
              "  <tbody>\n",
              "    <tr>\n",
              "      <th>18</th>\n",
              "      <td>559872</td>\n",
              "      <td>0.0</td>\n",
              "    </tr>\n",
              "    <tr>\n",
              "      <th>19</th>\n",
              "      <td>405632</td>\n",
              "      <td>0.0</td>\n",
              "    </tr>\n",
              "    <tr>\n",
              "      <th>20</th>\n",
              "      <td>774144</td>\n",
              "      <td>0.0</td>\n",
              "    </tr>\n",
              "    <tr>\n",
              "      <th>21</th>\n",
              "      <td>771456</td>\n",
              "      <td>0.0</td>\n",
              "    </tr>\n",
              "    <tr>\n",
              "      <th>22</th>\n",
              "      <td>612736</td>\n",
              "      <td>0.0</td>\n",
              "    </tr>\n",
              "    <tr>\n",
              "      <th>23</th>\n",
              "      <td>639488</td>\n",
              "      <td>0.0</td>\n",
              "    </tr>\n",
              "    <tr>\n",
              "      <th>24</th>\n",
              "      <td>74994</td>\n",
              "      <td>0.0</td>\n",
              "    </tr>\n",
              "  </tbody>\n",
              "</table>\n",
              "</div>"
            ],
            "text/plain": [
              "       eta  Wind speed (m/s)\n",
              "18  559872               0.0\n",
              "19  405632               0.0\n",
              "20  774144               0.0\n",
              "21  771456               0.0\n",
              "22  612736               0.0\n",
              "23  639488               0.0\n",
              "24   74994               0.0"
            ]
          },
          "metadata": {
            "tags": []
          },
          "execution_count": 72
        }
      ]
    },
    {
      "cell_type": "code",
      "metadata": {
        "id": "SXuCmKrZvhT9",
        "colab_type": "code",
        "colab": {}
      },
      "source": [
        "## Import packages\n",
        "import tensorflow as tf\n",
        "import numpy\n",
        "import pandas as pd\n",
        "import matplotlib.pyplot as plt\n",
        "rng = numpy.random"
      ],
      "execution_count": 0,
      "outputs": []
    },
    {
      "cell_type": "code",
      "metadata": {
        "id": "WkPH9JnSI3Wy",
        "colab_type": "code",
        "colab": {}
      },
      "source": [
        "#Define your useful columns of data\n",
        "column1=df7['eta'].values\n",
        "column2=df7['Horizontal visibility (m)'].values"
      ],
      "execution_count": 0,
      "outputs": []
    },
    {
      "cell_type": "code",
      "metadata": {
        "id": "r8BD49BgcNob",
        "colab_type": "code",
        "colab": {}
      },
      "source": [
        "# HyperParameters\n",
        "learning_rate = 0.01\n",
        "training_epochs = 1000\n"
      ],
      "execution_count": 0,
      "outputs": []
    },
    {
      "cell_type": "code",
      "metadata": {
        "id": "n6m7IqfFcRhe",
        "colab_type": "code",
        "colab": {}
      },
      "source": [
        "#Parameter\n",
        "display_step = 50"
      ],
      "execution_count": 0,
      "outputs": []
    },
    {
      "cell_type": "code",
      "metadata": {
        "id": "HK2vzroBcTuS",
        "colab_type": "code",
        "colab": {}
      },
      "source": [
        "# Training Data (X,Y) Sets\n",
        "train_X = numpy.asarray(column1)\n",
        "train_Y = numpy.asarray(column2)"
      ],
      "execution_count": 0,
      "outputs": []
    },
    {
      "cell_type": "code",
      "metadata": {
        "id": "qV4ZLi5kAMuu",
        "colab_type": "code",
        "outputId": "595f14db-44d9-4409-dd9d-d746228385ab",
        "colab": {
          "base_uri": "https://localhost:8080/",
          "height": 34
        }
      },
      "source": [
        "column1.dtype\n"
      ],
      "execution_count": 0,
      "outputs": [
        {
          "output_type": "execute_result",
          "data": {
            "text/plain": [
              "dtype('int64')"
            ]
          },
          "metadata": {
            "tags": []
          },
          "execution_count": 78
        }
      ]
    },
    {
      "cell_type": "code",
      "metadata": {
        "id": "NdnQ0y67cdNw",
        "colab_type": "code",
        "colab": {}
      },
      "source": [
        "#Specifying the length of the train_x data\n",
        "n_samples = train_X.shape[0]\n"
      ],
      "execution_count": 0,
      "outputs": []
    },
    {
      "cell_type": "code",
      "metadata": {
        "id": "YwzImzdNKGyu",
        "colab_type": "code",
        "colab": {}
      },
      "source": [
        "#Specifying the length of the train_y data\n",
        "n_samples = train_Y.shape[0]"
      ],
      "execution_count": 0,
      "outputs": []
    },
    {
      "cell_type": "code",
      "metadata": {
        "id": "QiyhAixmcgei",
        "colab_type": "code",
        "colab": {}
      },
      "source": [
        "# tf Graph Input --- Setting the dtype for the placeholder information\n",
        "X = tf.placeholder(\"float\")\n",
        "Y = tf.placeholder(\"float\")"
      ],
      "execution_count": 0,
      "outputs": []
    },
    {
      "cell_type": "code",
      "metadata": {
        "id": "jFpCm7nncj_t",
        "colab_type": "code",
        "colab": {}
      },
      "source": [
        "# Set model weights This is initializing the guesses of the model for weight and bias\n",
        "W = tf.Variable(rng.randn(), name=\"weight\")\n",
        "b = tf.Variable(rng.randn(), name=\"bias\")"
      ],
      "execution_count": 0,
      "outputs": []
    },
    {
      "cell_type": "code",
      "metadata": {
        "id": "ForUCZPycnjB",
        "colab_type": "code",
        "colab": {}
      },
      "source": [
        "# Construct a linear model (y=WX+b)\n",
        "pred = tf.add(tf.multiply(X, W), b)"
      ],
      "execution_count": 0,
      "outputs": []
    },
    {
      "cell_type": "code",
      "metadata": {
        "id": "Zm2P4wS4vYAp",
        "colab_type": "code",
        "colab": {}
      },
      "source": [
        "# Mean squared error This is the error in the calculation to try to minimize\n",
        "error = tf.reduce_sum(tf.pow(pred-Y, 2))/(2*n_samples)"
      ],
      "execution_count": 0,
      "outputs": []
    },
    {
      "cell_type": "code",
      "metadata": {
        "id": "0YcMTfRActIk",
        "colab_type": "code",
        "colab": {}
      },
      "source": [
        "#  Note, minimize() knows to modify W and b because Variable objects are trainable=True by default\n",
        "optimizer = tf.train.AdamOptimizer().minimize(error)\n"
      ],
      "execution_count": 0,
      "outputs": []
    },
    {
      "cell_type": "code",
      "metadata": {
        "id": "HbMJh5EBc1wt",
        "colab_type": "code",
        "colab": {}
      },
      "source": [
        "# Initialize the variables (i.e. assign their default value)\n",
        "init = tf.global_variables_initializer()\n"
      ],
      "execution_count": 0,
      "outputs": []
    },
    {
      "cell_type": "code",
      "metadata": {
        "id": "wj2Dhmsec6tf",
        "colab_type": "code",
        "outputId": "a7996ecf-685d-42bd-9b3c-823687972842",
        "colab": {
          "base_uri": "https://localhost:8080/",
          "height": 656
        }
      },
      "source": [
        "# Start training\n",
        "with tf.Session() as sess:\n",
        "\n",
        "    # Run the initializer\n",
        "    sess.run(init)\n",
        "\n",
        "    # Fit all training data\n",
        "    for epoch in range(training_epochs):\n",
        "        for (x, y) in zip(train_X, train_Y):\n",
        "            sess.run(optimizer, feed_dict={X: x, Y: y})\n",
        "     # Display logs per epoch step\n",
        "        if (epoch+1) % display_step == 0:\n",
        "            c = sess.run(error, feed_dict={X: train_X, Y:train_Y})\n",
        "            print(\"Epoch:\", '%04d' % (epoch+1), \"error=\", \"{:.9f}\".format(c), \\\n",
        "                \"W=\", sess.run(W), \"b=\", sess.run(b))\n",
        "\n",
        "    print(\"Optimization Finished!\")\n",
        "    training_error = sess.run(error, feed_dict={X: train_X, Y: train_Y})\n",
        "    print(\"Training error=\", training_error, \"W=\", sess.run(W), \"b=\", sess.run(b), '\\n')\n",
        "\n",
        "    # Graphic display\n",
        "    plt.plot(train_X, train_Y, 'ro', label='Original data')\n",
        "    plt.plot(train_X, sess.run(W) * train_X + sess.run(b), label='Fitted line')\n",
        "    plt.legend()\n",
        "    plt.show()\n",
        "   \n",
        "\n",
        "\n",
        "\n",
        "    \n"
      ],
      "execution_count": 0,
      "outputs": [
        {
          "output_type": "stream",
          "text": [
            "Epoch: 0050 error= 229063056.000000000 W= 0.0435545 b= -0.41856053\n",
            "Epoch: 0100 error= 229078720.000000000 W= 0.043596834 b= -0.07197073\n",
            "Epoch: 0150 error= 229080464.000000000 W= 0.043605443 b= 0.27721006\n",
            "Epoch: 0200 error= 229079344.000000000 W= 0.043607254 b= 0.626966\n",
            "Epoch: 0250 error= 229077472.000000000 W= 0.043607358 b= 0.9768672\n",
            "Epoch: 0300 error= 229075424.000000000 W= 0.043607008 b= 1.3268107\n",
            "Epoch: 0350 error= 229073296.000000000 W= 0.043606527 b= 1.6767613\n",
            "Epoch: 0400 error= 229071184.000000000 W= 0.043606013 b= 2.0267112\n",
            "Epoch: 0450 error= 229069040.000000000 W= 0.04360549 b= 2.376662\n",
            "Epoch: 0500 error= 229066912.000000000 W= 0.04360497 b= 2.7266128\n",
            "Epoch: 0550 error= 229064784.000000000 W= 0.043604437 b= 3.0765636\n",
            "Epoch: 0600 error= 229062656.000000000 W= 0.04360392 b= 3.4265084\n",
            "Epoch: 0650 error= 229060496.000000000 W= 0.043603394 b= 3.7764473\n",
            "Epoch: 0700 error= 229058384.000000000 W= 0.04360286 b= 4.1263905\n",
            "Epoch: 0750 error= 229056256.000000000 W= 0.04360233 b= 4.4763412\n",
            "Epoch: 0800 error= 229054112.000000000 W= 0.0436018 b= 4.826292\n",
            "Epoch: 0850 error= 229051984.000000000 W= 0.043601286 b= 5.176243\n",
            "Epoch: 0900 error= 229049872.000000000 W= 0.04360076 b= 5.5261936\n",
            "Epoch: 0950 error= 229047728.000000000 W= 0.04360023 b= 5.8761444\n",
            "Epoch: 1000 error= 229045568.000000000 W= 0.04359971 b= 6.226095\n",
            "Optimization Finished!\n",
            "Training error= 229045570.0 W= 0.04359971 b= 6.226095 \n",
            "\n"
          ],
          "name": "stdout"
        },
        {
          "output_type": "display_data",
          "data": {
            "image/png": "[encoded data removed]",
            "text/plain": [
              "<Figure size 432x288 with 1 Axes>"
            ]
          },
          "metadata": {
            "tags": []
          }
        }
      ]
    },
    {
      "cell_type": "markdown",
      "metadata": {
        "id": "n0cPFMjRd_iI",
        "colab_type": "text"
      },
      "source": [
        ""
      ]
    }
  ]
}